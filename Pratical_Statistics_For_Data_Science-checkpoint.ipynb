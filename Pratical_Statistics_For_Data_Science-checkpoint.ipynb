{
 "cells": [
  {
   "cell_type": "code",
   "execution_count": 1,
   "metadata": {},
   "outputs": [],
   "source": [
    "# library for changing directory\n",
    "import os\n",
    "# library for scaler/matrix manipulation\n",
    "import numpy as np\n",
    "#library for dataframe manipulation\n",
    "import pandas as pd\n",
    "# library for simple plotting\n",
    "import matplotlib.pyplot as plt"
   ]
  },
  {
   "cell_type": "code",
   "execution_count": 2,
   "metadata": {},
   "outputs": [
    {
     "name": "stdout",
     "output_type": "stream",
     "text": [
      "C:\\Users\\91882\\Downloads\n"
     ]
    }
   ],
   "source": [
    "# print out the current working directory\n",
    "print(os.getcwd())"
   ]
  },
  {
   "cell_type": "code",
   "execution_count": 3,
   "metadata": {},
   "outputs": [
    {
     "name": "stderr",
     "output_type": "stream",
     "text": [
      "C:\\Users\\91882\\Anaconda3\\lib\\site-packages\\IPython\\core\\interactiveshell.py:3020: DtypeWarning: Columns (8) have mixed types. Specify dtype option on import or set low_memory=False.\n",
      "  interactivity=interactivity, compiler=compiler, result=result)\n"
     ]
    }
   ],
   "source": [
    "# importing sample data we will be using\n",
    "# in dataframe object lets name is df\n",
    "#df=pd.read_csv('/home/jovyan/demo/NSE_sample.csv')\n",
    "df=pd.read_csv('Nifty100.csv',parse_dates=['Date'])"
   ]
  },
  {
   "cell_type": "code",
   "execution_count": 4,
   "metadata": {},
   "outputs": [
    {
     "data": {
      "text/html": [
       "<div>\n",
       "<style scoped>\n",
       "    .dataframe tbody tr th:only-of-type {\n",
       "        vertical-align: middle;\n",
       "    }\n",
       "\n",
       "    .dataframe tbody tr th {\n",
       "        vertical-align: top;\n",
       "    }\n",
       "\n",
       "    .dataframe thead th {\n",
       "        text-align: right;\n",
       "    }\n",
       "</style>\n",
       "<table border=\"1\" class=\"dataframe\">\n",
       "  <thead>\n",
       "    <tr style=\"text-align: right;\">\n",
       "      <th></th>\n",
       "      <th>Unnamed: 0</th>\n",
       "      <th>Symbol</th>\n",
       "      <th>Series</th>\n",
       "      <th>Date</th>\n",
       "      <th>Prev Close</th>\n",
       "      <th>Open Price</th>\n",
       "      <th>High Price</th>\n",
       "      <th>Low Price</th>\n",
       "      <th>Last Price</th>\n",
       "      <th>Close Price</th>\n",
       "      <th>Average Price</th>\n",
       "      <th>Total Traded Quantity</th>\n",
       "      <th>Turnover</th>\n",
       "      <th>No. of Trades</th>\n",
       "      <th>Deliverable Qty</th>\n",
       "      <th>% Dly Qt to Traded Qty</th>\n",
       "    </tr>\n",
       "  </thead>\n",
       "  <tbody>\n",
       "    <tr>\n",
       "      <th>0</th>\n",
       "      <td>0</td>\n",
       "      <td>BAJAJ-AUTO</td>\n",
       "      <td>EQ</td>\n",
       "      <td>2016-11-17</td>\n",
       "      <td>2605.65</td>\n",
       "      <td>2590.0</td>\n",
       "      <td>2665.00</td>\n",
       "      <td>2522.00</td>\n",
       "      <td>2560.00</td>\n",
       "      <td>2549.80</td>\n",
       "      <td>2567.68</td>\n",
       "      <td>331352</td>\n",
       "      <td>8.508066e+08</td>\n",
       "      <td>32785</td>\n",
       "      <td>141219</td>\n",
       "      <td>42.62</td>\n",
       "    </tr>\n",
       "    <tr>\n",
       "      <th>1</th>\n",
       "      <td>1</td>\n",
       "      <td>BAJAJ-AUTO</td>\n",
       "      <td>EQ</td>\n",
       "      <td>2016-11-18</td>\n",
       "      <td>2549.80</td>\n",
       "      <td>2556.0</td>\n",
       "      <td>2579.95</td>\n",
       "      <td>2545.00</td>\n",
       "      <td>2579.90</td>\n",
       "      <td>2574.80</td>\n",
       "      <td>2566.40</td>\n",
       "      <td>176488</td>\n",
       "      <td>4.529391e+08</td>\n",
       "      <td>19149</td>\n",
       "      <td>82505</td>\n",
       "      <td>46.75</td>\n",
       "    </tr>\n",
       "    <tr>\n",
       "      <th>2</th>\n",
       "      <td>2</td>\n",
       "      <td>BAJAJ-AUTO</td>\n",
       "      <td>EQ</td>\n",
       "      <td>2016-11-21</td>\n",
       "      <td>2574.80</td>\n",
       "      <td>2575.0</td>\n",
       "      <td>2584.90</td>\n",
       "      <td>2510.00</td>\n",
       "      <td>2522.15</td>\n",
       "      <td>2524.40</td>\n",
       "      <td>2544.50</td>\n",
       "      <td>271829</td>\n",
       "      <td>6.916688e+08</td>\n",
       "      <td>16633</td>\n",
       "      <td>146948</td>\n",
       "      <td>54.06</td>\n",
       "    </tr>\n",
       "    <tr>\n",
       "      <th>3</th>\n",
       "      <td>3</td>\n",
       "      <td>BAJAJ-AUTO</td>\n",
       "      <td>EQ</td>\n",
       "      <td>2016-11-22</td>\n",
       "      <td>2524.40</td>\n",
       "      <td>2540.0</td>\n",
       "      <td>2614.80</td>\n",
       "      <td>2514.85</td>\n",
       "      <td>2611.00</td>\n",
       "      <td>2599.50</td>\n",
       "      <td>2578.45</td>\n",
       "      <td>301790</td>\n",
       "      <td>7.781498e+08</td>\n",
       "      <td>17039</td>\n",
       "      <td>163429</td>\n",
       "      <td>54.15</td>\n",
       "    </tr>\n",
       "    <tr>\n",
       "      <th>4</th>\n",
       "      <td>4</td>\n",
       "      <td>BAJAJ-AUTO</td>\n",
       "      <td>EQ</td>\n",
       "      <td>2016-11-23</td>\n",
       "      <td>2599.50</td>\n",
       "      <td>2639.7</td>\n",
       "      <td>2639.70</td>\n",
       "      <td>2571.00</td>\n",
       "      <td>2600.00</td>\n",
       "      <td>2600.35</td>\n",
       "      <td>2601.54</td>\n",
       "      <td>253894</td>\n",
       "      <td>6.605147e+08</td>\n",
       "      <td>14591</td>\n",
       "      <td>144248</td>\n",
       "      <td>56.81</td>\n",
       "    </tr>\n",
       "    <tr>\n",
       "      <th>5</th>\n",
       "      <td>5</td>\n",
       "      <td>BAJAJ-AUTO</td>\n",
       "      <td>EQ</td>\n",
       "      <td>2016-11-24</td>\n",
       "      <td>2600.35</td>\n",
       "      <td>2591.0</td>\n",
       "      <td>2658.00</td>\n",
       "      <td>2550.00</td>\n",
       "      <td>2628.35</td>\n",
       "      <td>2630.90</td>\n",
       "      <td>2628.29</td>\n",
       "      <td>609817</td>\n",
       "      <td>1.602774e+09</td>\n",
       "      <td>32830</td>\n",
       "      <td>376360</td>\n",
       "      <td>61.72</td>\n",
       "    </tr>\n",
       "    <tr>\n",
       "      <th>6</th>\n",
       "      <td>6</td>\n",
       "      <td>BAJAJ-AUTO</td>\n",
       "      <td>EQ</td>\n",
       "      <td>2016-11-25</td>\n",
       "      <td>2630.90</td>\n",
       "      <td>2620.0</td>\n",
       "      <td>2646.00</td>\n",
       "      <td>2603.15</td>\n",
       "      <td>2610.00</td>\n",
       "      <td>2613.05</td>\n",
       "      <td>2616.14</td>\n",
       "      <td>238138</td>\n",
       "      <td>6.230023e+08</td>\n",
       "      <td>18104</td>\n",
       "      <td>127683</td>\n",
       "      <td>53.62</td>\n",
       "    </tr>\n",
       "  </tbody>\n",
       "</table>\n",
       "</div>"
      ],
      "text/plain": [
       "   Unnamed: 0      Symbol Series       Date  Prev Close  Open Price  \\\n",
       "0           0  BAJAJ-AUTO     EQ 2016-11-17     2605.65      2590.0   \n",
       "1           1  BAJAJ-AUTO     EQ 2016-11-18     2549.80      2556.0   \n",
       "2           2  BAJAJ-AUTO     EQ 2016-11-21     2574.80      2575.0   \n",
       "3           3  BAJAJ-AUTO     EQ 2016-11-22     2524.40      2540.0   \n",
       "4           4  BAJAJ-AUTO     EQ 2016-11-23     2599.50      2639.7   \n",
       "5           5  BAJAJ-AUTO     EQ 2016-11-24     2600.35      2591.0   \n",
       "6           6  BAJAJ-AUTO     EQ 2016-11-25     2630.90      2620.0   \n",
       "\n",
       "   High Price  Low Price      Last Price  Close Price  Average Price  \\\n",
       "0     2665.00    2522.00         2560.00      2549.80        2567.68   \n",
       "1     2579.95    2545.00         2579.90      2574.80        2566.40   \n",
       "2     2584.90    2510.00         2522.15      2524.40        2544.50   \n",
       "3     2614.80    2514.85         2611.00      2599.50        2578.45   \n",
       "4     2639.70    2571.00         2600.00      2600.35        2601.54   \n",
       "5     2658.00    2550.00         2628.35      2630.90        2628.29   \n",
       "6     2646.00    2603.15         2610.00      2613.05        2616.14   \n",
       "\n",
       "   Total Traded Quantity      Turnover  No. of Trades  Deliverable Qty  \\\n",
       "0                 331352  8.508066e+08          32785           141219   \n",
       "1                 176488  4.529391e+08          19149            82505   \n",
       "2                 271829  6.916688e+08          16633           146948   \n",
       "3                 301790  7.781498e+08          17039           163429   \n",
       "4                 253894  6.605147e+08          14591           144248   \n",
       "5                 609817  1.602774e+09          32830           376360   \n",
       "6                 238138  6.230023e+08          18104           127683   \n",
       "\n",
       "   % Dly Qt to Traded Qty  \n",
       "0                   42.62  \n",
       "1                   46.75  \n",
       "2                   54.06  \n",
       "3                   54.15  \n",
       "4                   56.81  \n",
       "5                   61.72  \n",
       "6                   53.62  "
      ]
     },
     "execution_count": 4,
     "metadata": {},
     "output_type": "execute_result"
    }
   ],
   "source": [
    "# reading out the sample of data \n",
    "# df is an object with its own build int functions\n",
    "# you can call get a hint about it by typing \n",
    "# ?df.what_ever_the_function_is or help(df.what_ever_the_function_is)\n",
    "# will show you what paramters you have to use to make the function run\n",
    "# head will show you top N numbers of line in dataframe, default is 5\n",
    "df.head(7)"
   ]
  },
  {
   "cell_type": "code",
   "execution_count": 5,
   "metadata": {},
   "outputs": [],
   "source": [
    "# to keep things simple we will be using the only close column\n",
    "# so we are going to make a list of close\n",
    "close=list(df[df['Symbol']=='BAJAJ-AUTO']['Close Price'])"
   ]
  },
  {
   "cell_type": "code",
   "execution_count": 6,
   "metadata": {},
   "outputs": [
    {
     "data": {
      "image/png": "[encoded data removed]",
      "text/plain": [
       "<Figure size 432x288 with 1 Axes>"
      ]
     },
     "metadata": {
      "needs_background": "light"
     },
     "output_type": "display_data"
    }
   ],
   "source": [
    "# lets get a sense of close by plotting it\n",
    "plt.plot(close)\n",
    "_=plt.title('Close Price for NSE/BAJAJ-AUTO')\n",
    "#if things are not clear in this plot\n",
    "# dont worry we will get back to thse latter"
   ]
  },
  {
   "cell_type": "code",
   "execution_count": 7,
   "metadata": {},
   "outputs": [],
   "source": [
    "# Well we will now try to get a statistic measure of the data\n",
    "# we will be using the close sample data we have used as a reference point\n",
    "# <<1>> Mean, or you can call it Average\n",
    "#  The sum of all values divied by the number of values\n",
    "# we will try making small functions for getting out getting our work done\n",
    "def mean_m(numlist):\n",
    "    if len(numlist)==0:\n",
    "        return 0\n",
    "    else:\n",
    "        sum=0\n",
    "        count=1\n",
    "        for number in numlist:\n",
    "            sum+=number\n",
    "        return sum/len(numlist)"
   ]
  },
  {
   "cell_type": "code",
   "execution_count": 8,
   "metadata": {},
   "outputs": [
    {
     "name": "stdout",
     "output_type": "stream",
     "text": [
      "Mean based on using custom built function 2887.148490945676\n",
      "Mean based on using numpy inbuilt function 2887.148490945674\n",
      "-----------------------------------------------------------------\n",
      "Mean based on using custom built function with empty list 0\n",
      "Mean based on using numpy inbuilt function with empty list nan\n"
     ]
    },
    {
     "name": "stderr",
     "output_type": "stream",
     "text": [
      "C:\\Users\\91882\\Anaconda3\\lib\\site-packages\\numpy\\lib\\function_base.py:356: RuntimeWarning: Mean of empty slice.\n",
      "  avg = a.mean(axis)\n",
      "C:\\Users\\91882\\Anaconda3\\lib\\site-packages\\numpy\\core\\_methods.py:85: RuntimeWarning: invalid value encountered in double_scalars\n",
      "  ret = ret.dtype.type(ret / rcount)\n"
     ]
    }
   ],
   "source": [
    "# the function we created is not optimial a large data would suck at it\n",
    "print(\"Mean based on using custom built function\",mean_m(close))\n",
    "print(\"Mean based on using numpy inbuilt function\",np.average(close))\n",
    "# Geez! see we are very close\n",
    "print(\"-----------------------------------------------------------------\")\n",
    "# Well see how we can have have custom if custom to use\n",
    "print(\"Mean based on using custom built function with empty list\",mean_m([]))\n",
    "print(\"Mean based on using numpy inbuilt function with empty list\",np.average([]))"
   ]
  },
  {
   "cell_type": "code",
   "execution_count": 9,
   "metadata": {},
   "outputs": [],
   "source": [
    "## <<2>> Trimmed Mean, Calculated by dropping a fixed number of sorted values at each end and then take an average of the remaining values\n",
    "## i.e. we will sort the number list in asceding order and will drop n values at each end\n",
    "def trimmed_mean_m(numlist,n=5):\n",
    "    # n number of values to be dropped\n",
    "    list(numlist).sort() # this will sort the list\n",
    "    trimmedlist = numlist[n:-n]\n",
    "    # we have trimmed the list from both ends by n values\n",
    "    return mean_m(trimmedlist)"
   ]
  },
  {
   "cell_type": "code",
   "execution_count": 10,
   "metadata": {},
   "outputs": [
    {
     "name": "stdout",
     "output_type": "stream",
     "text": [
      "Trimmed Mean by 5 extreme values 2892.618993839837\n",
      "Trimmed Mean by 10 extreme values 2897.452201257862\n",
      "Trimmed Mean by 20 extreme values 2909.4875273522994\n"
     ]
    }
   ],
   "source": [
    "for n in [5,10,20]:\n",
    "    print(\"Trimmed Mean by {} extreme values\".format(n),trimmed_mean_m(close,n))"
   ]
  },
  {
   "cell_type": "code",
   "execution_count": 11,
   "metadata": {},
   "outputs": [],
   "source": [
    "## <<3>> Weighted Mean\n",
    "## The sum of all values times a weight divided by the sum of the weights\n",
    "## Weights are could be anything, generally in time series analysis they are\n",
    "## the time stamp reduced to whole numbers like 1, ... N \n",
    "## where highest weight could be given to close price \n",
    "## closed to current time stamp\n",
    "def weighted_mean_m(numlist):\n",
    "    # make sure the close is in its orignial shape\n",
    "    # without losing its original sequence \n",
    "    num_sum=0\n",
    "    weight_sum=0\n",
    "    for weight,value in enumerate(numlist):\n",
    "        num_sum+=(weight+1)*value\n",
    "        weight_sum+=weight+1\n",
    "    \n",
    "    return num_sum/weight_sum"
   ]
  },
  {
   "cell_type": "code",
   "execution_count": 12,
   "metadata": {},
   "outputs": [
    {
     "name": "stdout",
     "output_type": "stream",
     "text": [
      "Weighted mean of close 2890.5124667684836\n",
      "###############################################\n",
      " Weighted Mean of sample data set based on custom function 5.666666666666667\n",
      "--------------------------------------------\n",
      "Weighted Mean of sample data set based on numpy function 5.666666666666667\n"
     ]
    }
   ],
   "source": [
    "print(\"Weighted mean of close\",weighted_mean_m(close))\n",
    "print(\"###############################################\")\n",
    "## checking is it doing it correclty checking on simple data\n",
    "print(\" Weighted Mean of sample data set based on custom function\",weighted_mean_m([1,2,3,4,5,6,7,8]))\n",
    "print(\"--------------------------------------------\")\n",
    "print(\"Weighted Mean of sample data set based on numpy function\",np.average([1,2,3,4,5,6,7,8],weights=[1,2,3,4,5,6,7,8]))"
   ]
  },
  {
   "cell_type": "code",
   "execution_count": 13,
   "metadata": {},
   "outputs": [],
   "source": [
    "## <<4>> Median , Median is the middle number on a sorted list of the data\n",
    "def median_m(numlist):\n",
    "    numlist.sort()\n",
    "    if len(numlist)%2==1:\n",
    "        return numlist[len(numlist)//2]\n",
    "    else:\n",
    "        return mean_m([numlist[len(numlist)//2-1],numlist[len(numlist)//2]])"
   ]
  },
  {
   "cell_type": "code",
   "execution_count": 14,
   "metadata": {},
   "outputs": [],
   "source": [
    "## Estimates of Variability\n",
    "##<<5>> Mean Absolute Deviation MAD\n",
    "## The difference between the observed values and the estimate of location(mean)."
   ]
  },
  {
   "cell_type": "code",
   "execution_count": 15,
   "metadata": {},
   "outputs": [],
   "source": [
    "def MAD_m(numlist):\n",
    "    mean=mean_m(numlist)\n",
    "    mad=0\n",
    "    for num in numlist:\n",
    "        mad+=abs(num-mean)\n",
    "    return mad/len(numlist)"
   ]
  },
  {
   "cell_type": "code",
   "execution_count": 16,
   "metadata": {},
   "outputs": [
    {
     "name": "stdout",
     "output_type": "stream",
     "text": [
      " MAD for close data 162.60533664765262\n",
      "##############################\n",
      "MAD for sample data 0.6666666666666666\n",
      "0.6666666666666666 will be the answer of this which checks out\n"
     ]
    }
   ],
   "source": [
    "print(\" MAD for close data\",MAD_m(close))\n",
    "print(\"##############################\")\n",
    "print(\"MAD for sample data\",MAD_m([-1,0,1]))\n",
    "print(\"{} will be the answer of this which checks out\".format(2/3))"
   ]
  },
  {
   "cell_type": "code",
   "execution_count": 17,
   "metadata": {},
   "outputs": [],
   "source": [
    "## <<6>> Variance and the standard deviation\n",
    "## The sum of squared deviations from the mean divided by N-1 where N is the number of data values."
   ]
  },
  {
   "cell_type": "code",
   "execution_count": 18,
   "metadata": {},
   "outputs": [],
   "source": [
    "def variance_m(numlist,sample=True):\n",
    "    numerator=0\n",
    "    mean=mean_m(numlist)\n",
    "    for num in numlist:\n",
    "            numerator+=(num-mean)**2\n",
    "    if sample:\n",
    "        return numerator/(len(numlist)-1)\n",
    "    else:\n",
    "        return numerator/len(numlist)    \n",
    "## if the data used is a sample of whole population\n",
    "## technically it is correct to divide by N-1 rather than N\n",
    "## to make the result unbiased"
   ]
  },
  {
   "cell_type": "code",
   "execution_count": 19,
   "metadata": {},
   "outputs": [
    {
     "name": "stdout",
     "output_type": "stream",
     "text": [
      "Variance for sample dataset by custom formulae is 41685.232946306896 and by numpy formulae is 41685.232946306875\n",
      "Variance for population dataset by custom formulae is 41601.35923816543 and by numpy formulae is 41601.35923816541\n",
      "Only a minor change for large dataset this difference will become less obvious\n"
     ]
    }
   ],
   "source": [
    "print(\"Variance for sample dataset by custom formulae is {} and by numpy formulae is {}\".format(variance_m(close),np.var(close,ddof=1)))\n",
    "print(\"Variance for population dataset by custom formulae is {} and by numpy formulae is {}\".format(variance_m(close,sample=False),np.var(close,ddof=0)))\n",
    "print(\"Only a minor change for large dataset this difference will become less obvious\")\n",
    "## Do note ddof means degree of freedom, there is 0 defree of fredoom reducted in population data set i.e. divide by N\n",
    "## And, there is 1 reduction in degree of freedom in sample i.e. divide by N-1"
   ]
  },
  {
   "cell_type": "code",
   "execution_count": 20,
   "metadata": {},
   "outputs": [],
   "source": [
    "## <<7>> Standard deviation : The square root of the variance\n",
    "def sd_m(numlist,sample=True):\n",
    "    return  (variance_m(numlist,sample))**(1/2)"
   ]
  },
  {
   "cell_type": "code",
   "execution_count": 21,
   "metadata": {},
   "outputs": [
    {
     "name": "stdout",
     "output_type": "stream",
     "text": [
      "Standard deviation for sample dataset by custom formulae is 204.16961807846656 and by numpy formulae is 204.1696180784665\n",
      "Standard deviation for population dataset by custom formulae is 203.96411262319023 and by numpy formulae is 203.96411262319018\n",
      "Only a minor change for large dataset this difference will become less obvious\n"
     ]
    }
   ],
   "source": [
    "print(\"Standard deviation for sample dataset by custom formulae is {} and by numpy formulae is {}\".format(sd_m(close),np.std(close,ddof=1)))\n",
    "print(\"Standard deviation for population dataset by custom formulae is {} and by numpy formulae is {}\".format(sd_m(close,sample=False),np.std(close,ddof=0)))\n",
    "print(\"Only a minor change for large dataset this difference will become less obvious\")"
   ]
  },
  {
   "cell_type": "code",
   "execution_count": 22,
   "metadata": {},
   "outputs": [],
   "source": [
    "## <<8>> Median Absolute Deviation\n",
    "def median_MAD_m(numlist):\n",
    "    numlist.sort()\n",
    "    median=median_m(numlist)\n",
    "    numlist[:]=[abs(value-median) for value in numlist]\n",
    "    # substracting each element of list from its mean\n",
    "    # we use our inbuilt function to generate the median\n",
    "    return median_m(numlist)"
   ]
  },
  {
   "cell_type": "code",
   "execution_count": 23,
   "metadata": {},
   "outputs": [
    {
     "name": "stdout",
     "output_type": "stream",
     "text": [
      " Median Absolute Deviation for close data : 106.65000000000009\n"
     ]
    }
   ],
   "source": [
    "print(\" Median Absolute Deviation for close data : {}\".format(median_MAD_m(close)))\n",
    "## its a large median in financial time series"
   ]
  },
  {
   "cell_type": "code",
   "execution_count": 24,
   "metadata": {},
   "outputs": [
    {
     "name": "stdout",
     "output_type": "stream",
     "text": [
      "Range of the close data set is 577.7999999999997\n"
     ]
    }
   ],
   "source": [
    "## Estimates based on percentile\n",
    "## <<8>> Range:The most basic measure is the range: the difference between the largest and smallest number\n",
    "def range_m(numlist):\n",
    "    return max(numlist)-min(numlist)\n",
    "print(\"Range of the close data set is {}\".format(range_m(close)))"
   ]
  },
  {
   "cell_type": "code",
   "execution_count": 25,
   "metadata": {},
   "outputs": [],
   "source": [
    "## <<9>> Percentile \n",
    "#In a dataset, the P-th percentile is a value such that at least P percent of the values take on this value or less and at least (100-P) percent of the values\n",
    "# take on this value or more. For example, to find the 80th percentile, sort the data.\n",
    "# Then, starting with the smallest value, proceed 80 percent of the way to the largest\n",
    "# value. Note that the median is the same thing as the 50th percentile. The percentile is\n",
    "# essentially the same as a quantile, with quantiles indexed by fractions (so the .8 quantile\n",
    "# is the same as the 80th percentile)\n",
    "def percentile_m(numlist,percentile=50):\n",
    "    assert percentile in range(0,101) , \"Invalid Percentile Value\"\n",
    "    # default return will be the median\n",
    "    numlist.sort() # starting out by arranging out the series\n",
    "    if percentile ==0:\n",
    "        return min(numlist)\n",
    "    elif percentile==100:\n",
    "        return max(numlist)\n",
    "    elif percentile==50:\n",
    "        return median_m(numlist)\n",
    "    else:\n",
    "        import numpy as np\n",
    "        percent_bucket=np.linspace(0,100,len(close))\n",
    "        maximum_in_percent_bucket_smaller_than_percentile=percent_bucket[percent_bucket<percentile][-1]\n",
    "        lower_index=list(percent_bucket).index(maximum_in_percent_bucket_smaller_than_percentile)\n",
    "        upper_index=lower_index+1\n",
    "        return numlist[lower_index]+(numlist[upper_index]-numlist[lower_index])*(percentile-percent_bucket[lower_index])/(percent_bucket[upper_index]-percent_bucket[lower_index])"
   ]
  },
  {
   "cell_type": "code",
   "execution_count": 26,
   "metadata": {},
   "outputs": [
    {
     "name": "stdout",
     "output_type": "stream",
     "text": [
      "0 percentile value by custom function is 0.0 and by numpy inbuilt function is 0.0\n",
      "5 percentile value by custom function is 6.839999999999965 and by numpy inbuilt function is 6.839999999999964\n",
      "25 percentile value by custom function is 38.0 and by numpy inbuilt function is 38.0\n",
      "50 percentile value by custom function is 106.65000000000009 and by numpy inbuilt function is 106.65000000000009\n",
      "90 percentile value by custom function is 381.9699999999999 and by numpy inbuilt function is 381.9699999999999\n",
      "100 percentile value by custom function is 577.7999999999997 and by numpy inbuilt function is 577.7999999999997\n"
     ]
    }
   ],
   "source": [
    "## working out the percentile for different percentie values\n",
    "for percentile in [0,5,25,50,90,100]:\n",
    "    print(\"{} percentile value by custom function is {} and by numpy inbuilt function is {}\".format(percentile,percentile_m(close,percentile),np.percentile(close,percentile)))"
   ]
  },
  {
   "cell_type": "code",
   "execution_count": 27,
   "metadata": {},
   "outputs": [],
   "source": [
    "## We can come up with custom built functions for literally everything \n",
    "## But rather than re-inveting the wheel\n",
    "## now we will focus our attention into having a descriptive knowledge and usage of paramters\n",
    "## from now onwards.\n",
    "## Before moving forward, do note the key ideas"
   ]
  },
  {
   "cell_type": "code",
   "execution_count": 28,
   "metadata": {},
   "outputs": [],
   "source": [
    "## Key ideas\n",
    "## 1. The variance and standard deviation are the most widespread and routinely reported statistics of variability\n",
    "## 2. Both are sensitive to outliers\n",
    "## 3. More robust metrics include mean and median absolute deviations from the mean, and percentiles (quantiles)"
   ]
  },
  {
   "cell_type": "code",
   "execution_count": 29,
   "metadata": {},
   "outputs": [],
   "source": [
    "##<<10>>  Interquartile Range (IQR)\n",
    "## The difference between the 75th percentile and the 25th percentile\n",
    "def IQR_m(numlist):\n",
    "    return percentile_m(numlist,75)-percentile_m(numlist,25)"
   ]
  },
  {
   "cell_type": "code",
   "execution_count": 30,
   "metadata": {},
   "outputs": [
    {
     "name": "stdout",
     "output_type": "stream",
     "text": [
      "IQR for close data using custom function 211.9000000000001 and using inbuilt function 211.9000000000001\n"
     ]
    }
   ],
   "source": [
    "print(\"IQR for close data using custom function {} and using inbuilt function {}\".format(IQR_m(close),np.percentile(close,75)-np.percentile(close,25)))"
   ]
  },
  {
   "cell_type": "code",
   "execution_count": 31,
   "metadata": {},
   "outputs": [
    {
     "data": {
      "image/png": "[encoded data removed]",
      "text/plain": [
       "<Figure size 432x288 with 1 Axes>"
      ]
     },
     "metadata": {
      "needs_background": "light"
     },
     "output_type": "display_data"
    }
   ],
   "source": [
    "## Graphical statistics/inference for outliers etc\n",
    "##<<11>> Box plot (Box and whiskers plot)\n",
    "plt.boxplot(close)\n",
    "_=plt.ylabel('(Rs.) Close Price')\n",
    "# The top and bottom of the box are the 75th and 25th percentiles, respectively. The\n",
    "# median is shown by the horizontal line in the box. The dashed lines, referred to as\n",
    "# whiskers, extend from the top and bottom to indicate the range for the bulk of the\n",
    "# data. By default, the python function extends the whiskers to the furthest\n",
    "# point beyond the box, except that it will not go beyond 1.5 times the IQR. Other\n",
    "#  Any data outside of the whiskers are plotted as single points.\n",
    "### You can always use ?plt.boxplot to play around the boxplot method"
   ]
  },
  {
   "cell_type": "code",
   "execution_count": 32,
   "metadata": {},
   "outputs": [],
   "source": [
    "## <<12>> Frequency Table\n",
    "## A frequency table of a variable divides up the variable range into equally spaced segments,\n",
    "## and tells us how many values fall in each segment.\n",
    "## This idea is helpful for creating custom features\n",
    "## Also, for plotting out the frequency table\n",
    "#def frequency_m(numlist,bins=10):\n",
    "#    sample_class=np.linspace(min(close),max(close),bins)\n",
    "#    frequency_class=[]\n",
    "#    for f in sample_class[1:]:\n",
    "        \n",
    "## HAVE TO COME BACK TO THIS"
   ]
  },
  {
   "cell_type": "code",
   "execution_count": 33,
   "metadata": {},
   "outputs": [
    {
     "data": {
      "image/png": "[encoded data removed]",
      "text/plain": [
       "<Figure size 576x864 with 2 Axes>"
      ]
     },
     "metadata": {
      "needs_background": "light"
     },
     "output_type": "display_data"
    }
   ],
   "source": [
    "## Creating a data set which suits better to plot histogra,\n",
    "daily_return=100*(df[df['Symbol']=='BAJAJ-AUTO']['Close Price']/df[df['Symbol']=='BAJAJ-AUTO']['Open Price']-1)\n",
    "##<<12>> Histogram\n",
    "## A histogram is a way to visualize a frequency table, with bins on the x-axis, and data \n",
    "## count on the y-axis.\n",
    "plt.figure(figsize=(8,12))\n",
    "plt.subplot(211)\n",
    "plt.hist(daily_return)\n",
    "plt.xlabel('% daily return')\n",
    "plt.ylabel(\"Frequency \")\n",
    "_=plt.title('Histogram for % daily return with bin size as 10')\n",
    "plt.subplot(212)\n",
    "plt.hist(daily_return,bins=30)\n",
    "plt.xlabel('% daily return')\n",
    "plt.ylabel(\"Frequency \")\n",
    "_=plt.title('Histogram for % daily return with bin size as 30')\n",
    "## as bins increases the plot getter smoother\n",
    "## "
   ]
  },
  {
   "cell_type": "code",
   "execution_count": 34,
   "metadata": {},
   "outputs": [],
   "source": [
    "## <<13>> Density Estimates \n",
    "##Related to the histogram is a density plot which shows the distribution of data values\n",
    "## as a continuous line. It can be thought of as a smoothed histogram"
   ]
  },
  {
   "cell_type": "code",
   "execution_count": 35,
   "metadata": {},
   "outputs": [
    {
     "name": "stderr",
     "output_type": "stream",
     "text": [
      "C:\\Users\\91882\\Anaconda3\\lib\\site-packages\\matplotlib\\figure.py:98: MatplotlibDeprecationWarning: \n",
      "Adding an axes using the same arguments as a previous axes currently reuses the earlier instance.  In a future version, a new instance will always be created and returned.  Meanwhile, this warning can be suppressed, and the future behavior ensured, by passing a unique label to each axes instance.\n",
      "  \"Adding an axes using the same arguments as a previous axes \"\n"
     ]
    },
    {
     "data": {
      "text/plain": [
       "[<matplotlib.lines.Line2D at 0x1aece3293c8>]"
      ]
     },
     "execution_count": 35,
     "metadata": {},
     "output_type": "execute_result"
    },
    {
     "data": {
      "image/png": "[encoded data removed]",
      "text/plain": [
       "<Figure size 576x864 with 2 Axes>"
      ]
     },
     "metadata": {
      "needs_background": "light"
     },
     "output_type": "display_data"
    }
   ],
   "source": [
    "#plt.hist(daily_return,bins=30,)\n",
    "import seaborn as sns\n",
    "plt.figure(figsize=(8,12))\n",
    "plt.subplot(211)\n",
    "sns.distplot(daily_return,bins=30)\n",
    "_=plt.xlabel('% Returns')\n",
    "_=plt.ylabel(' Frequency')\n",
    "_=plt.title('Density plot for daily returns')\n",
    "## Interestingly matplotlib has no efficient inbuilt way to build the density plot\n",
    "## yet we can get density points for each bin\n",
    "## but using denisty function in hist\n",
    "plt.subplot(212)\n",
    "density=plt.hist(daily_return,bins=30,density=True)\n",
    "_=plt.xlabel('% Returns')\n",
    "_=plt.ylabel(' Frequency')\n",
    "_=plt.title('Density plot for daily returns')\n",
    "plt.subplot(212)\n",
    "plt.plot(density[1][1:],density[0],color='black')"
   ]
  },
  {
   "cell_type": "code",
   "execution_count": 36,
   "metadata": {},
   "outputs": [],
   "source": [
    "## Key Points to note\n",
    "#1. A frequency histogram plots frequency counts on the y-axis and variable values\n",
    "#  on the x-axis; it gives a sense of the distribution of the data at a glance.\n",
    "#2. A frequency table is a tabular version of the frequency counts in a histogram.\n",
    "#3. A boxplot, with the top and bottom of the box at the 75th and 25th percentiles,\n",
    "#   respectively, also gives a quick sense of the distribution of the data; it is often\n",
    "#   used in side-by-side displays to compare distributions.\n",
    "#4. A density plot is a smoothed version of a histogram; it requires a function to estimate\n",
    "#   plot based on the data (multiple estimates are possible, of course)."
   ]
  },
  {
   "cell_type": "code",
   "execution_count": 37,
   "metadata": {},
   "outputs": [
    {
     "data": {
      "image/png": "[encoded data removed]",
      "text/plain": [
       "<Figure size 432x288 with 1 Axes>"
      ]
     },
     "metadata": {
      "needs_background": "light"
     },
     "output_type": "display_data"
    }
   ],
   "source": [
    "## lets plot some normally distributed random data to see \n",
    "## how our daily return compare to it\n",
    "def random_sample(length=100000):\n",
    "    import random\n",
    "    sample = [ random.normalvariate(0,1) for i in range(length)]\n",
    "    return sample\n",
    "_=sns.distplot(random_sample(),bins=40)\n",
    "_=plt.title('Density plot for {} normally distributed values'.format(len(random_sample())))"
   ]
  },
  {
   "cell_type": "code",
   "execution_count": 38,
   "metadata": {},
   "outputs": [
    {
     "name": "stdout",
     "output_type": "stream",
     "text": [
      "-0.017382400506591327\n",
      "-0.6714508771831871\n",
      " Skewness with 497 values in daily return is -0.6714508771831871 and standard normal distribution is -0.11623258901007076\n"
     ]
    }
   ],
   "source": [
    "## <<14>> Skweness \n",
    "## skweness: It refers to whether the data is skewed to larger or small values\n",
    "## For normally distributed data, the skewness should be about 0. \n",
    "## A skewness value > 0 means that there is more weight in the left tail of the distribution. \n",
    "##--------------------------------------------------------------------------------------------------\n",
    "# importing a new library\n",
    "import scipy.stats as stats\n",
    "print(stats.skew(random_sample()))\n",
    "# which is pretty close to being 0\n",
    "# lets try the kurtosis on our daily_return sample\n",
    "print(stats.skew(daily_return))\n",
    "# which is quite large \n",
    "# one may argue the number of samples in both series are not comparable\n",
    "# lets try both with equal no of values\n",
    "print(\" Skewness with {} values in daily return is {} and standard normal distribution is {}\".format(len(daily_return),stats.skew(daily_return),stats.skew(random_sample(len(daily_return)))))\n",
    "# even with reduced sample size for random values skewness is still very low comapred to actual time series"
   ]
  },
  {
   "cell_type": "code",
   "execution_count": 39,
   "metadata": {},
   "outputs": [
    {
     "name": "stdout",
     "output_type": "stream",
     "text": [
      "Absolute kurtosis for normally random data 0.006801530090892349\n",
      "Absolute kurtosis for daily return data 5.094024646027627\n"
     ]
    }
   ],
   "source": [
    "## <<15>> Kurtosis\n",
    "## kurtosis : It indicates the propensity of the data to have extreme values\n",
    "## It helps in determining how the values at extreme are distributed in comparison to normal distribution\n",
    "## normal distributed series have kurtosis value of 3\n",
    "## value for a series is always reported as excess kurtosis i.e. kurtosis in excess of normal distributio i.e. kurtosis minus 3 \n",
    "print(\"Absolute kurtosis for normally random data\",stats.kurtosis(random_sample())) # fisher = True calculates the excess kurtosis \n",
    "                                             # while fisher = False , i.e. default setting calculates the absolute kurtosis\n",
    "print(\"Absolute kurtosis for daily return data\",stats.kurtosis(daily_return,fisher=True))\n",
    "# we see excess kurtosis is a big number\n",
    "# we can conclude on a quantitaive basis that there are values present at extreme ends of daily return sequence"
   ]
  },
  {
   "cell_type": "code",
   "execution_count": 40,
   "metadata": {},
   "outputs": [
    {
     "name": "stdout",
     "output_type": "stream",
     "text": [
      "['EQ' 'BL' 'IL' 'W2' nan 'NB' 'NE' 'NC' 'N3' 'N6' 'N8' 'NF' 'N7' 'N4' 'N1'\n",
      " 'N5' 'N9' 'P2' 'P1' 'N2' 'ND' 'D1' 'NW' 'NX' 'Y3' 'Y6' 'YB' 'YC' 'NI'\n",
      " 'NS' 'NU' 'Y9' 'Y7' 'NG' 'NZ' 'Y2' 'YG' 'Y8' 'YA' 'YD' 'Y5' 'YH' 'YI'\n",
      " 'YJ' 'YK' 'YL' 'YN' 'YM' 'YQ' 'YO' 'YP' 'YU' 'E1' 'Q1' 'Q2']\n",
      "The most common object i.e. mode is ['EQ'] with frequency of occurance [43727]\n"
     ]
    },
    {
     "name": "stderr",
     "output_type": "stream",
     "text": [
      "C:\\Users\\91882\\Anaconda3\\lib\\site-packages\\scipy\\stats\\stats.py:245: RuntimeWarning: The input array could not be properly checked for nan values. nan values will be ignored.\n",
      "  \"values. nan values will be ignored.\", RuntimeWarning)\n"
     ]
    }
   ],
   "source": [
    "## <<16>> Mode \n",
    "## The mode is the value, or values in case of a tie, that appears most often in the data.\n",
    "## The mode is a simple summary statistic for categorical data, and it is generally not used for numeric data\n",
    "# lets see the sample data for this exercise as the Series label in our original data frame\n",
    "print(df['Series'].unique()) # returns the unique values in the columns\n",
    "mode,count=stats.mode(list(df['Series'])) # this function returns the mode and frequency of occurance associated with the mode\n",
    "print(\"The most common object i.e. mode is {} with frequency of occurance {}\".format(mode,count))"
   ]
  },
  {
   "cell_type": "code",
   "execution_count": 41,
   "metadata": {},
   "outputs": [],
   "source": [
    "## <<17>> Expected Value\n",
    "#The expected value (EV) is an anticipated value for a given event at some point in the future.\n",
    "# In statistics and probability analysis, the expected value is calculated by multiplying each of the possible outcomes \n",
    "# by the likelihood each outcome will occur,\n",
    "# and summing all of those values.\n",
    "#The expected value is calculated as follows\n",
    "##    1. Multiply each outcome by its probability of occurring.\n",
    "##    2. Sum these values"
   ]
  },
  {
   "cell_type": "code",
   "execution_count": 42,
   "metadata": {},
   "outputs": [],
   "source": [
    "def EV_dieroll():\n",
    "    # Each value [1,2,3,4,5,6] of in a roll of die\n",
    "    # has probability of occurance as 1/6\n",
    "    EV=0\n",
    "    for rolloutcome in [1,2,3,4,5,6]:\n",
    "        EV+=rolloutcome*(1/6)\n",
    "    return EV"
   ]
  },
  {
   "cell_type": "code",
   "execution_count": 43,
   "metadata": {},
   "outputs": [
    {
     "name": "stdout",
     "output_type": "stream",
     "text": [
      "Expected Value of roll of die: 3.5\n"
     ]
    }
   ],
   "source": [
    "print(\"Expected Value of roll of die:\",EV_dieroll())"
   ]
  },
  {
   "cell_type": "code",
   "execution_count": 44,
   "metadata": {},
   "outputs": [],
   "source": [
    "### <<< KEY IDEA>>>>> \n",
    "## Expected value is the sum of values times their probability of occurance, often\n",
    "## used to sum up factor variable levels"
   ]
  },
  {
   "cell_type": "code",
   "execution_count": 45,
   "metadata": {},
   "outputs": [],
   "source": [
    "## <<18>> Correlation\n",
    "dates=df['Date'].unique()[-300:]\n",
    "stocks=['BAJAJ-AUTO','HEROMOTOCO','TATAMOTORS','MARUTI']"
   ]
  },
  {
   "cell_type": "code",
   "execution_count": 46,
   "metadata": {},
   "outputs": [
    {
     "data": {
      "text/html": [
       "<div>\n",
       "<style scoped>\n",
       "    .dataframe tbody tr th:only-of-type {\n",
       "        vertical-align: middle;\n",
       "    }\n",
       "\n",
       "    .dataframe tbody tr th {\n",
       "        vertical-align: top;\n",
       "    }\n",
       "\n",
       "    .dataframe thead th {\n",
       "        text-align: right;\n",
       "    }\n",
       "</style>\n",
       "<table border=\"1\" class=\"dataframe\">\n",
       "  <thead>\n",
       "    <tr style=\"text-align: right;\">\n",
       "      <th>Symbol</th>\n",
       "      <th>BAJAJ-AUTO</th>\n",
       "      <th>BAJAJFINSV</th>\n",
       "      <th>BAJFINANCE</th>\n",
       "      <th>BANDHANBNK</th>\n",
       "      <th>BANKBARODA</th>\n",
       "      <th>BEL</th>\n",
       "      <th>BHARTIARTL</th>\n",
       "      <th>BHEL</th>\n",
       "      <th>BIOCON</th>\n",
       "      <th>BOSCHLTD</th>\n",
       "      <th>...</th>\n",
       "      <th>TATASTEEL</th>\n",
       "      <th>TCS</th>\n",
       "      <th>TECHM</th>\n",
       "      <th>TITAN</th>\n",
       "      <th>ULTRACEMCO</th>\n",
       "      <th>UPL</th>\n",
       "      <th>VEDL</th>\n",
       "      <th>WIPRO</th>\n",
       "      <th>YESBANK</th>\n",
       "      <th>ZEEL</th>\n",
       "    </tr>\n",
       "    <tr>\n",
       "      <th>Date</th>\n",
       "      <th></th>\n",
       "      <th></th>\n",
       "      <th></th>\n",
       "      <th></th>\n",
       "      <th></th>\n",
       "      <th></th>\n",
       "      <th></th>\n",
       "      <th></th>\n",
       "      <th></th>\n",
       "      <th></th>\n",
       "      <th></th>\n",
       "      <th></th>\n",
       "      <th></th>\n",
       "      <th></th>\n",
       "      <th></th>\n",
       "      <th></th>\n",
       "      <th></th>\n",
       "      <th></th>\n",
       "      <th></th>\n",
       "      <th></th>\n",
       "      <th></th>\n",
       "    </tr>\n",
       "  </thead>\n",
       "  <tbody>\n",
       "    <tr>\n",
       "      <th>2016-11-17</th>\n",
       "      <td>2549.80</td>\n",
       "      <td>2918.15</td>\n",
       "      <td>871.15</td>\n",
       "      <td>NaN</td>\n",
       "      <td>174.75</td>\n",
       "      <td>1314.75</td>\n",
       "      <td>297.15</td>\n",
       "      <td>133.3</td>\n",
       "      <td>882.35</td>\n",
       "      <td>19016.75</td>\n",
       "      <td>...</td>\n",
       "      <td>392.75</td>\n",
       "      <td>2137.20</td>\n",
       "      <td>441.85</td>\n",
       "      <td>315.9</td>\n",
       "      <td>3335.85</td>\n",
       "      <td>314.600000</td>\n",
       "      <td>213.90</td>\n",
       "      <td>438.40</td>\n",
       "      <td>1173.15</td>\n",
       "      <td>234.300</td>\n",
       "    </tr>\n",
       "    <tr>\n",
       "      <th>2016-11-18</th>\n",
       "      <td>2574.80</td>\n",
       "      <td>2943.20</td>\n",
       "      <td>878.40</td>\n",
       "      <td>NaN</td>\n",
       "      <td>176.95</td>\n",
       "      <td>1307.90</td>\n",
       "      <td>303.75</td>\n",
       "      <td>134.3</td>\n",
       "      <td>872.55</td>\n",
       "      <td>19226.85</td>\n",
       "      <td>...</td>\n",
       "      <td>385.10</td>\n",
       "      <td>2125.10</td>\n",
       "      <td>445.30</td>\n",
       "      <td>303.3</td>\n",
       "      <td>3392.80</td>\n",
       "      <td>215.916667</td>\n",
       "      <td>203.35</td>\n",
       "      <td>437.15</td>\n",
       "      <td>1180.75</td>\n",
       "      <td>228.125</td>\n",
       "    </tr>\n",
       "    <tr>\n",
       "      <th>2016-11-21</th>\n",
       "      <td>2524.40</td>\n",
       "      <td>2845.70</td>\n",
       "      <td>832.20</td>\n",
       "      <td>NaN</td>\n",
       "      <td>161.10</td>\n",
       "      <td>1278.15</td>\n",
       "      <td>299.50</td>\n",
       "      <td>128.9</td>\n",
       "      <td>851.95</td>\n",
       "      <td>18407.90</td>\n",
       "      <td>...</td>\n",
       "      <td>371.45</td>\n",
       "      <td>2132.90</td>\n",
       "      <td>447.15</td>\n",
       "      <td>304.1</td>\n",
       "      <td>3322.30</td>\n",
       "      <td>211.283333</td>\n",
       "      <td>196.75</td>\n",
       "      <td>441.80</td>\n",
       "      <td>1112.50</td>\n",
       "      <td>221.800</td>\n",
       "    </tr>\n",
       "    <tr>\n",
       "      <th>2016-11-22</th>\n",
       "      <td>2599.50</td>\n",
       "      <td>2901.55</td>\n",
       "      <td>858.00</td>\n",
       "      <td>NaN</td>\n",
       "      <td>163.20</td>\n",
       "      <td>1300.20</td>\n",
       "      <td>303.95</td>\n",
       "      <td>124.4</td>\n",
       "      <td>847.40</td>\n",
       "      <td>18523.80</td>\n",
       "      <td>...</td>\n",
       "      <td>378.05</td>\n",
       "      <td>2135.00</td>\n",
       "      <td>453.40</td>\n",
       "      <td>306.9</td>\n",
       "      <td>3422.75</td>\n",
       "      <td>309.375000</td>\n",
       "      <td>206.90</td>\n",
       "      <td>450.40</td>\n",
       "      <td>1131.65</td>\n",
       "      <td>229.500</td>\n",
       "    </tr>\n",
       "    <tr>\n",
       "      <th>2016-11-23</th>\n",
       "      <td>2600.35</td>\n",
       "      <td>2931.15</td>\n",
       "      <td>850.25</td>\n",
       "      <td>NaN</td>\n",
       "      <td>162.10</td>\n",
       "      <td>1294.10</td>\n",
       "      <td>300.55</td>\n",
       "      <td>125.1</td>\n",
       "      <td>861.20</td>\n",
       "      <td>18975.15</td>\n",
       "      <td>...</td>\n",
       "      <td>392.70</td>\n",
       "      <td>2156.35</td>\n",
       "      <td>453.10</td>\n",
       "      <td>312.5</td>\n",
       "      <td>3452.20</td>\n",
       "      <td>311.900000</td>\n",
       "      <td>216.80</td>\n",
       "      <td>448.90</td>\n",
       "      <td>1125.25</td>\n",
       "      <td>233.375</td>\n",
       "    </tr>\n",
       "  </tbody>\n",
       "</table>\n",
       "<p>5 rows × 91 columns</p>\n",
       "</div>"
      ],
      "text/plain": [
       "Symbol      BAJAJ-AUTO  BAJAJFINSV  BAJFINANCE  BANDHANBNK  BANKBARODA  \\\n",
       "Date                                                                     \n",
       "2016-11-17     2549.80     2918.15      871.15         NaN      174.75   \n",
       "2016-11-18     2574.80     2943.20      878.40         NaN      176.95   \n",
       "2016-11-21     2524.40     2845.70      832.20         NaN      161.10   \n",
       "2016-11-22     2599.50     2901.55      858.00         NaN      163.20   \n",
       "2016-11-23     2600.35     2931.15      850.25         NaN      162.10   \n",
       "\n",
       "Symbol          BEL  BHARTIARTL   BHEL  BIOCON  BOSCHLTD   ...     TATASTEEL  \\\n",
       "Date                                                       ...                 \n",
       "2016-11-17  1314.75      297.15  133.3  882.35  19016.75   ...        392.75   \n",
       "2016-11-18  1307.90      303.75  134.3  872.55  19226.85   ...        385.10   \n",
       "2016-11-21  1278.15      299.50  128.9  851.95  18407.90   ...        371.45   \n",
       "2016-11-22  1300.20      303.95  124.4  847.40  18523.80   ...        378.05   \n",
       "2016-11-23  1294.10      300.55  125.1  861.20  18975.15   ...        392.70   \n",
       "\n",
       "Symbol          TCS   TECHM  TITAN  ULTRACEMCO         UPL    VEDL   WIPRO  \\\n",
       "Date                                                                         \n",
       "2016-11-17  2137.20  441.85  315.9     3335.85  314.600000  213.90  438.40   \n",
       "2016-11-18  2125.10  445.30  303.3     3392.80  215.916667  203.35  437.15   \n",
       "2016-11-21  2132.90  447.15  304.1     3322.30  211.283333  196.75  441.80   \n",
       "2016-11-22  2135.00  453.40  306.9     3422.75  309.375000  206.90  450.40   \n",
       "2016-11-23  2156.35  453.10  312.5     3452.20  311.900000  216.80  448.90   \n",
       "\n",
       "Symbol      YESBANK     ZEEL  \n",
       "Date                          \n",
       "2016-11-17  1173.15  234.300  \n",
       "2016-11-18  1180.75  228.125  \n",
       "2016-11-21  1112.50  221.800  \n",
       "2016-11-22  1131.65  229.500  \n",
       "2016-11-23  1125.25  233.375  \n",
       "\n",
       "[5 rows x 91 columns]"
      ]
     },
     "execution_count": 46,
     "metadata": {},
     "output_type": "execute_result"
    }
   ],
   "source": [
    "## Creating some data set to perform correlation matrix\n",
    "## Will now create data frame with daily return for all stocks in the list\n",
    "stock_frame=pd.pivot_table(df,index='Date',columns='Symbol',values='Close Price')\n",
    "## we will now pivot the table to have the stocks close price in different columns\n",
    "stock_frame.sort_values(by=['Date'], inplace=True)\n",
    "# Ensuring the date stamp is in continuous order\n",
    "stock_frame.head()\n",
    "# Showing the head of the dataframe"
   ]
  },
  {
   "cell_type": "code",
   "execution_count": 47,
   "metadata": {},
   "outputs": [
    {
     "name": "stdout",
     "output_type": "stream",
     "text": [
      "No of stocks in list 91\n"
     ]
    }
   ],
   "source": [
    "stocks=list(stock_frame.columns)\n",
    "print(\"No of stocks in list {}\".format(len(stocks)))"
   ]
  },
  {
   "cell_type": "code",
   "execution_count": 48,
   "metadata": {},
   "outputs": [],
   "source": [
    "for stock in stocks:\n",
    "    stock_frame['{}_DR'.format(stock)]=stock_frame[stock].pct_change()\n",
    "#stock_frame.drop([\"{}_DR\"],axis=1,inplace=True)"
   ]
  },
  {
   "cell_type": "code",
   "execution_count": 49,
   "metadata": {},
   "outputs": [
    {
     "data": {
      "text/html": [
       "<div>\n",
       "<style scoped>\n",
       "    .dataframe tbody tr th:only-of-type {\n",
       "        vertical-align: middle;\n",
       "    }\n",
       "\n",
       "    .dataframe tbody tr th {\n",
       "        vertical-align: top;\n",
       "    }\n",
       "\n",
       "    .dataframe thead th {\n",
       "        text-align: right;\n",
       "    }\n",
       "</style>\n",
       "<table border=\"1\" class=\"dataframe\">\n",
       "  <thead>\n",
       "    <tr style=\"text-align: right;\">\n",
       "      <th>Symbol</th>\n",
       "      <th>BAJAJ-AUTO</th>\n",
       "      <th>BAJAJFINSV</th>\n",
       "      <th>BAJFINANCE</th>\n",
       "      <th>BANDHANBNK</th>\n",
       "      <th>BANKBARODA</th>\n",
       "      <th>BEL</th>\n",
       "      <th>BHARTIARTL</th>\n",
       "      <th>BHEL</th>\n",
       "      <th>BIOCON</th>\n",
       "      <th>BOSCHLTD</th>\n",
       "      <th>...</th>\n",
       "      <th>TATASTEEL_DR</th>\n",
       "      <th>TCS_DR</th>\n",
       "      <th>TECHM_DR</th>\n",
       "      <th>TITAN_DR</th>\n",
       "      <th>ULTRACEMCO_DR</th>\n",
       "      <th>UPL_DR</th>\n",
       "      <th>VEDL_DR</th>\n",
       "      <th>WIPRO_DR</th>\n",
       "      <th>YESBANK_DR</th>\n",
       "      <th>ZEEL_DR</th>\n",
       "    </tr>\n",
       "    <tr>\n",
       "      <th>Date</th>\n",
       "      <th></th>\n",
       "      <th></th>\n",
       "      <th></th>\n",
       "      <th></th>\n",
       "      <th></th>\n",
       "      <th></th>\n",
       "      <th></th>\n",
       "      <th></th>\n",
       "      <th></th>\n",
       "      <th></th>\n",
       "      <th></th>\n",
       "      <th></th>\n",
       "      <th></th>\n",
       "      <th></th>\n",
       "      <th></th>\n",
       "      <th></th>\n",
       "      <th></th>\n",
       "      <th></th>\n",
       "      <th></th>\n",
       "      <th></th>\n",
       "      <th></th>\n",
       "    </tr>\n",
       "  </thead>\n",
       "  <tbody>\n",
       "    <tr>\n",
       "      <th>2016-11-17</th>\n",
       "      <td>2549.80</td>\n",
       "      <td>2918.15</td>\n",
       "      <td>871.15</td>\n",
       "      <td>NaN</td>\n",
       "      <td>174.75</td>\n",
       "      <td>1314.75</td>\n",
       "      <td>297.15</td>\n",
       "      <td>133.3</td>\n",
       "      <td>882.35</td>\n",
       "      <td>19016.75</td>\n",
       "      <td>...</td>\n",
       "      <td>NaN</td>\n",
       "      <td>NaN</td>\n",
       "      <td>NaN</td>\n",
       "      <td>NaN</td>\n",
       "      <td>NaN</td>\n",
       "      <td>NaN</td>\n",
       "      <td>NaN</td>\n",
       "      <td>NaN</td>\n",
       "      <td>NaN</td>\n",
       "      <td>NaN</td>\n",
       "    </tr>\n",
       "    <tr>\n",
       "      <th>2016-11-18</th>\n",
       "      <td>2574.80</td>\n",
       "      <td>2943.20</td>\n",
       "      <td>878.40</td>\n",
       "      <td>NaN</td>\n",
       "      <td>176.95</td>\n",
       "      <td>1307.90</td>\n",
       "      <td>303.75</td>\n",
       "      <td>134.3</td>\n",
       "      <td>872.55</td>\n",
       "      <td>19226.85</td>\n",
       "      <td>...</td>\n",
       "      <td>-0.019478</td>\n",
       "      <td>-0.005662</td>\n",
       "      <td>0.007808</td>\n",
       "      <td>-0.039886</td>\n",
       "      <td>0.017072</td>\n",
       "      <td>-0.313679</td>\n",
       "      <td>-0.049322</td>\n",
       "      <td>-0.002851</td>\n",
       "      <td>0.006478</td>\n",
       "      <td>-0.026355</td>\n",
       "    </tr>\n",
       "    <tr>\n",
       "      <th>2016-11-21</th>\n",
       "      <td>2524.40</td>\n",
       "      <td>2845.70</td>\n",
       "      <td>832.20</td>\n",
       "      <td>NaN</td>\n",
       "      <td>161.10</td>\n",
       "      <td>1278.15</td>\n",
       "      <td>299.50</td>\n",
       "      <td>128.9</td>\n",
       "      <td>851.95</td>\n",
       "      <td>18407.90</td>\n",
       "      <td>...</td>\n",
       "      <td>-0.035445</td>\n",
       "      <td>0.003670</td>\n",
       "      <td>0.004155</td>\n",
       "      <td>0.002638</td>\n",
       "      <td>-0.020779</td>\n",
       "      <td>-0.021459</td>\n",
       "      <td>-0.032456</td>\n",
       "      <td>0.010637</td>\n",
       "      <td>-0.057802</td>\n",
       "      <td>-0.027726</td>\n",
       "    </tr>\n",
       "    <tr>\n",
       "      <th>2016-11-22</th>\n",
       "      <td>2599.50</td>\n",
       "      <td>2901.55</td>\n",
       "      <td>858.00</td>\n",
       "      <td>NaN</td>\n",
       "      <td>163.20</td>\n",
       "      <td>1300.20</td>\n",
       "      <td>303.95</td>\n",
       "      <td>124.4</td>\n",
       "      <td>847.40</td>\n",
       "      <td>18523.80</td>\n",
       "      <td>...</td>\n",
       "      <td>0.017768</td>\n",
       "      <td>0.000985</td>\n",
       "      <td>0.013977</td>\n",
       "      <td>0.009207</td>\n",
       "      <td>0.030235</td>\n",
       "      <td>0.464266</td>\n",
       "      <td>0.051588</td>\n",
       "      <td>0.019466</td>\n",
       "      <td>0.017213</td>\n",
       "      <td>0.034716</td>\n",
       "    </tr>\n",
       "    <tr>\n",
       "      <th>2016-11-23</th>\n",
       "      <td>2600.35</td>\n",
       "      <td>2931.15</td>\n",
       "      <td>850.25</td>\n",
       "      <td>NaN</td>\n",
       "      <td>162.10</td>\n",
       "      <td>1294.10</td>\n",
       "      <td>300.55</td>\n",
       "      <td>125.1</td>\n",
       "      <td>861.20</td>\n",
       "      <td>18975.15</td>\n",
       "      <td>...</td>\n",
       "      <td>0.038751</td>\n",
       "      <td>0.010000</td>\n",
       "      <td>-0.000662</td>\n",
       "      <td>0.018247</td>\n",
       "      <td>0.008604</td>\n",
       "      <td>0.008162</td>\n",
       "      <td>0.047849</td>\n",
       "      <td>-0.003330</td>\n",
       "      <td>-0.005655</td>\n",
       "      <td>0.016885</td>\n",
       "    </tr>\n",
       "  </tbody>\n",
       "</table>\n",
       "<p>5 rows × 182 columns</p>\n",
       "</div>"
      ],
      "text/plain": [
       "Symbol      BAJAJ-AUTO  BAJAJFINSV  BAJFINANCE  BANDHANBNK  BANKBARODA  \\\n",
       "Date                                                                     \n",
       "2016-11-17     2549.80     2918.15      871.15         NaN      174.75   \n",
       "2016-11-18     2574.80     2943.20      878.40         NaN      176.95   \n",
       "2016-11-21     2524.40     2845.70      832.20         NaN      161.10   \n",
       "2016-11-22     2599.50     2901.55      858.00         NaN      163.20   \n",
       "2016-11-23     2600.35     2931.15      850.25         NaN      162.10   \n",
       "\n",
       "Symbol          BEL  BHARTIARTL   BHEL  BIOCON  BOSCHLTD    ...     \\\n",
       "Date                                                        ...      \n",
       "2016-11-17  1314.75      297.15  133.3  882.35  19016.75    ...      \n",
       "2016-11-18  1307.90      303.75  134.3  872.55  19226.85    ...      \n",
       "2016-11-21  1278.15      299.50  128.9  851.95  18407.90    ...      \n",
       "2016-11-22  1300.20      303.95  124.4  847.40  18523.80    ...      \n",
       "2016-11-23  1294.10      300.55  125.1  861.20  18975.15    ...      \n",
       "\n",
       "Symbol      TATASTEEL_DR    TCS_DR  TECHM_DR  TITAN_DR  ULTRACEMCO_DR  \\\n",
       "Date                                                                    \n",
       "2016-11-17           NaN       NaN       NaN       NaN            NaN   \n",
       "2016-11-18     -0.019478 -0.005662  0.007808 -0.039886       0.017072   \n",
       "2016-11-21     -0.035445  0.003670  0.004155  0.002638      -0.020779   \n",
       "2016-11-22      0.017768  0.000985  0.013977  0.009207       0.030235   \n",
       "2016-11-23      0.038751  0.010000 -0.000662  0.018247       0.008604   \n",
       "\n",
       "Symbol        UPL_DR   VEDL_DR  WIPRO_DR  YESBANK_DR   ZEEL_DR  \n",
       "Date                                                            \n",
       "2016-11-17       NaN       NaN       NaN         NaN       NaN  \n",
       "2016-11-18 -0.313679 -0.049322 -0.002851    0.006478 -0.026355  \n",
       "2016-11-21 -0.021459 -0.032456  0.010637   -0.057802 -0.027726  \n",
       "2016-11-22  0.464266  0.051588  0.019466    0.017213  0.034716  \n",
       "2016-11-23  0.008162  0.047849 -0.003330   -0.005655  0.016885  \n",
       "\n",
       "[5 rows x 182 columns]"
      ]
     },
     "execution_count": 49,
     "metadata": {},
     "output_type": "execute_result"
    }
   ],
   "source": [
    "stock_frame.head()\n",
    "# we see additional columns have been added with % daily change \n",
    "# lets drop the normal close price table from the frame"
   ]
  },
  {
   "cell_type": "code",
   "execution_count": 50,
   "metadata": {},
   "outputs": [
    {
     "data": {
      "text/html": [
       "<div>\n",
       "<style scoped>\n",
       "    .dataframe tbody tr th:only-of-type {\n",
       "        vertical-align: middle;\n",
       "    }\n",
       "\n",
       "    .dataframe tbody tr th {\n",
       "        vertical-align: top;\n",
       "    }\n",
       "\n",
       "    .dataframe thead th {\n",
       "        text-align: right;\n",
       "    }\n",
       "</style>\n",
       "<table border=\"1\" class=\"dataframe\">\n",
       "  <thead>\n",
       "    <tr style=\"text-align: right;\">\n",
       "      <th>Symbol</th>\n",
       "      <th>BAJAJ-AUTO_DR</th>\n",
       "      <th>BAJAJFINSV_DR</th>\n",
       "      <th>BAJFINANCE_DR</th>\n",
       "      <th>BANDHANBNK_DR</th>\n",
       "      <th>BANKBARODA_DR</th>\n",
       "      <th>BEL_DR</th>\n",
       "      <th>BHARTIARTL_DR</th>\n",
       "      <th>BHEL_DR</th>\n",
       "      <th>BIOCON_DR</th>\n",
       "      <th>BOSCHLTD_DR</th>\n",
       "      <th>...</th>\n",
       "      <th>TATASTEEL_DR</th>\n",
       "      <th>TCS_DR</th>\n",
       "      <th>TECHM_DR</th>\n",
       "      <th>TITAN_DR</th>\n",
       "      <th>ULTRACEMCO_DR</th>\n",
       "      <th>UPL_DR</th>\n",
       "      <th>VEDL_DR</th>\n",
       "      <th>WIPRO_DR</th>\n",
       "      <th>YESBANK_DR</th>\n",
       "      <th>ZEEL_DR</th>\n",
       "    </tr>\n",
       "    <tr>\n",
       "      <th>Date</th>\n",
       "      <th></th>\n",
       "      <th></th>\n",
       "      <th></th>\n",
       "      <th></th>\n",
       "      <th></th>\n",
       "      <th></th>\n",
       "      <th></th>\n",
       "      <th></th>\n",
       "      <th></th>\n",
       "      <th></th>\n",
       "      <th></th>\n",
       "      <th></th>\n",
       "      <th></th>\n",
       "      <th></th>\n",
       "      <th></th>\n",
       "      <th></th>\n",
       "      <th></th>\n",
       "      <th></th>\n",
       "      <th></th>\n",
       "      <th></th>\n",
       "      <th></th>\n",
       "    </tr>\n",
       "  </thead>\n",
       "  <tbody>\n",
       "    <tr>\n",
       "      <th>2016-11-17</th>\n",
       "      <td>NaN</td>\n",
       "      <td>NaN</td>\n",
       "      <td>NaN</td>\n",
       "      <td>NaN</td>\n",
       "      <td>NaN</td>\n",
       "      <td>NaN</td>\n",
       "      <td>NaN</td>\n",
       "      <td>NaN</td>\n",
       "      <td>NaN</td>\n",
       "      <td>NaN</td>\n",
       "      <td>...</td>\n",
       "      <td>NaN</td>\n",
       "      <td>NaN</td>\n",
       "      <td>NaN</td>\n",
       "      <td>NaN</td>\n",
       "      <td>NaN</td>\n",
       "      <td>NaN</td>\n",
       "      <td>NaN</td>\n",
       "      <td>NaN</td>\n",
       "      <td>NaN</td>\n",
       "      <td>NaN</td>\n",
       "    </tr>\n",
       "    <tr>\n",
       "      <th>2016-11-18</th>\n",
       "      <td>0.009805</td>\n",
       "      <td>0.008584</td>\n",
       "      <td>0.008322</td>\n",
       "      <td>NaN</td>\n",
       "      <td>0.012589</td>\n",
       "      <td>-0.005210</td>\n",
       "      <td>0.022211</td>\n",
       "      <td>0.007502</td>\n",
       "      <td>-0.011107</td>\n",
       "      <td>0.011048</td>\n",
       "      <td>...</td>\n",
       "      <td>-0.019478</td>\n",
       "      <td>-0.005662</td>\n",
       "      <td>0.007808</td>\n",
       "      <td>-0.039886</td>\n",
       "      <td>0.017072</td>\n",
       "      <td>-0.313679</td>\n",
       "      <td>-0.049322</td>\n",
       "      <td>-0.002851</td>\n",
       "      <td>0.006478</td>\n",
       "      <td>-0.026355</td>\n",
       "    </tr>\n",
       "    <tr>\n",
       "      <th>2016-11-21</th>\n",
       "      <td>-0.019574</td>\n",
       "      <td>-0.033127</td>\n",
       "      <td>-0.052596</td>\n",
       "      <td>NaN</td>\n",
       "      <td>-0.089573</td>\n",
       "      <td>-0.022746</td>\n",
       "      <td>-0.013992</td>\n",
       "      <td>-0.040208</td>\n",
       "      <td>-0.023609</td>\n",
       "      <td>-0.042594</td>\n",
       "      <td>...</td>\n",
       "      <td>-0.035445</td>\n",
       "      <td>0.003670</td>\n",
       "      <td>0.004155</td>\n",
       "      <td>0.002638</td>\n",
       "      <td>-0.020779</td>\n",
       "      <td>-0.021459</td>\n",
       "      <td>-0.032456</td>\n",
       "      <td>0.010637</td>\n",
       "      <td>-0.057802</td>\n",
       "      <td>-0.027726</td>\n",
       "    </tr>\n",
       "    <tr>\n",
       "      <th>2016-11-22</th>\n",
       "      <td>0.029750</td>\n",
       "      <td>0.019626</td>\n",
       "      <td>0.031002</td>\n",
       "      <td>NaN</td>\n",
       "      <td>0.013035</td>\n",
       "      <td>0.017251</td>\n",
       "      <td>0.014858</td>\n",
       "      <td>-0.034911</td>\n",
       "      <td>-0.005341</td>\n",
       "      <td>0.006296</td>\n",
       "      <td>...</td>\n",
       "      <td>0.017768</td>\n",
       "      <td>0.000985</td>\n",
       "      <td>0.013977</td>\n",
       "      <td>0.009207</td>\n",
       "      <td>0.030235</td>\n",
       "      <td>0.464266</td>\n",
       "      <td>0.051588</td>\n",
       "      <td>0.019466</td>\n",
       "      <td>0.017213</td>\n",
       "      <td>0.034716</td>\n",
       "    </tr>\n",
       "    <tr>\n",
       "      <th>2016-11-23</th>\n",
       "      <td>0.000327</td>\n",
       "      <td>0.010201</td>\n",
       "      <td>-0.009033</td>\n",
       "      <td>NaN</td>\n",
       "      <td>-0.006740</td>\n",
       "      <td>-0.004692</td>\n",
       "      <td>-0.011186</td>\n",
       "      <td>0.005627</td>\n",
       "      <td>0.016285</td>\n",
       "      <td>0.024366</td>\n",
       "      <td>...</td>\n",
       "      <td>0.038751</td>\n",
       "      <td>0.010000</td>\n",
       "      <td>-0.000662</td>\n",
       "      <td>0.018247</td>\n",
       "      <td>0.008604</td>\n",
       "      <td>0.008162</td>\n",
       "      <td>0.047849</td>\n",
       "      <td>-0.003330</td>\n",
       "      <td>-0.005655</td>\n",
       "      <td>0.016885</td>\n",
       "    </tr>\n",
       "  </tbody>\n",
       "</table>\n",
       "<p>5 rows × 91 columns</p>\n",
       "</div>"
      ],
      "text/plain": [
       "Symbol      BAJAJ-AUTO_DR  BAJAJFINSV_DR  BAJFINANCE_DR  BANDHANBNK_DR  \\\n",
       "Date                                                                     \n",
       "2016-11-17            NaN            NaN            NaN            NaN   \n",
       "2016-11-18       0.009805       0.008584       0.008322            NaN   \n",
       "2016-11-21      -0.019574      -0.033127      -0.052596            NaN   \n",
       "2016-11-22       0.029750       0.019626       0.031002            NaN   \n",
       "2016-11-23       0.000327       0.010201      -0.009033            NaN   \n",
       "\n",
       "Symbol      BANKBARODA_DR    BEL_DR  BHARTIARTL_DR   BHEL_DR  BIOCON_DR  \\\n",
       "Date                                                                      \n",
       "2016-11-17            NaN       NaN            NaN       NaN        NaN   \n",
       "2016-11-18       0.012589 -0.005210       0.022211  0.007502  -0.011107   \n",
       "2016-11-21      -0.089573 -0.022746      -0.013992 -0.040208  -0.023609   \n",
       "2016-11-22       0.013035  0.017251       0.014858 -0.034911  -0.005341   \n",
       "2016-11-23      -0.006740 -0.004692      -0.011186  0.005627   0.016285   \n",
       "\n",
       "Symbol      BOSCHLTD_DR    ...     TATASTEEL_DR    TCS_DR  TECHM_DR  TITAN_DR  \\\n",
       "Date                       ...                                                  \n",
       "2016-11-17          NaN    ...              NaN       NaN       NaN       NaN   \n",
       "2016-11-18     0.011048    ...        -0.019478 -0.005662  0.007808 -0.039886   \n",
       "2016-11-21    -0.042594    ...        -0.035445  0.003670  0.004155  0.002638   \n",
       "2016-11-22     0.006296    ...         0.017768  0.000985  0.013977  0.009207   \n",
       "2016-11-23     0.024366    ...         0.038751  0.010000 -0.000662  0.018247   \n",
       "\n",
       "Symbol      ULTRACEMCO_DR    UPL_DR   VEDL_DR  WIPRO_DR  YESBANK_DR   ZEEL_DR  \n",
       "Date                                                                           \n",
       "2016-11-17            NaN       NaN       NaN       NaN         NaN       NaN  \n",
       "2016-11-18       0.017072 -0.313679 -0.049322 -0.002851    0.006478 -0.026355  \n",
       "2016-11-21      -0.020779 -0.021459 -0.032456  0.010637   -0.057802 -0.027726  \n",
       "2016-11-22       0.030235  0.464266  0.051588  0.019466    0.017213  0.034716  \n",
       "2016-11-23       0.008604  0.008162  0.047849 -0.003330   -0.005655  0.016885  \n",
       "\n",
       "[5 rows x 91 columns]"
      ]
     },
     "execution_count": 50,
     "metadata": {},
     "output_type": "execute_result"
    }
   ],
   "source": [
    "for stock in stocks:\n",
    "    stock_frame.drop([stock],inplace=True,axis=1)\n",
    "stock_frame.head()\n",
    "## now we have a frame with % daily changes for all the stocks \n",
    "## with names_daily_return as column name\n",
    "## and date as an index"
   ]
  },
  {
   "cell_type": "code",
   "execution_count": 51,
   "metadata": {},
   "outputs": [],
   "source": [
    "##<<18>> Co-variance\n",
    "## Before moving on to correlation lets talk about an even more basic term called covariance\n",
    "## covariance : It is the measure of change in one variable ( let say X) when other variable ( let say Y) shows some change\n",
    "## It is important to note is there is no limit on what values a covariance can take\n",
    "## Technically , values for covariance can range for negative infinity to positive infinity \n",
    "## Where a positive value means change in one variable is in line with direction of change in other variable\n",
    "## i.e. if variable x is increasing , variable y is also increasing or if variable x in decreasing, variable y is also decreasing\n",
    "## While negative covariance means, the direction of change of values for one variable is opposite to other\n",
    "## i.e. if x increases , y decreases or vice-versa\n",
    "## DO NOTE:\n",
    "## covariance 0 means both variables are not completely independent. That will be highly unlikely as even random noise\n",
    "## will have some covraince value\n",
    "## Also, covariance captures dependency among variables not saying any thing about the relationship being linear or non linear\n",
    "## Formulae for covariance is pretty simple, have a google search\n",
    "## We will straight build a function to calculate co-variance\n",
    "# creating a function to remove nans\n",
    "def removenan_m(x,y):\n",
    "    x_=[]\n",
    "    y_=[]\n",
    "    import math\n",
    "    import numpy\n",
    "    for index in range(len(x)):\n",
    "        if math.isnan(x[index]) or math.isnan(y[index]):\n",
    "            continue\n",
    "        else:\n",
    "            x_.append(x[index]) \n",
    "            y_.append(y[index])\n",
    "    return x_,y_\n",
    "    \n",
    "def covariance_m(x,y):\n",
    "    # x,y are two different vectors , time series \n",
    "    # both should be of equal lenth\n",
    "    assert len(x)==len(y),'Inputs should be of equal length'\n",
    "    # we will have to remove nan values \n",
    "    # but if x has nan and y has value\n",
    "    # we will have to remove both\n",
    "    x_,y_=removenan_m(x,y)\n",
    "        # now we have vectors x_ , y_ with nan values removed\n",
    "    x_=np.array(x_)\n",
    "    y_=np.array(y_)\n",
    "    # covariance calculation\n",
    "    # 1 . mean calculation for x,y\n",
    "    xmean=mean_m(x_)\n",
    "    ymean=mean_m(y_)\n",
    "    # 2. Sumproduct difference of x,y values from its mean\n",
    "    # substract mean from values of x and values of y\n",
    "    ## multiply the difference deviations of respective variable with other\n",
    "    # and finally sum the vector\n",
    "    sumproduct= np.sum((x_-xmean)*(y_-ymean))\n",
    "    # 3. divide the above sumproduct by len of vector -1 \n",
    "    ## len of vector should be the modified vector after the removal of nan values\n",
    "    return sumproduct/(len(x_)-1)"
   ]
  },
  {
   "cell_type": "code",
   "execution_count": 52,
   "metadata": {},
   "outputs": [
    {
     "name": "stdout",
     "output_type": "stream",
     "text": [
      "Covariance matrix based on numpy inbuilt function is : [[ 1.66666667 -1.66666667]\n",
      " [-1.66666667  1.66666667]]\n",
      "Covariance based on numpy inbuilt function -1.6666666666666667\n",
      "Covariance of vector[1 2 3 4] with itself is 1.6666666666666667\n",
      "Covariance of vector[4 3 2 1] with itself is 1.6666666666666667\n",
      "Variance of vectors [1 2 3 4] & [4 3 2 1] are 1.6666666666666667 1.6666666666666667 respectively\n"
     ]
    }
   ],
   "source": [
    "## Example for covariance and testing if function performs well\n",
    "## or not\n",
    "# sample x ,y \n",
    "x=np.array([1,2,3,4])\n",
    "y=np.array([4,3,2,1])\n",
    "print(\"Covariance matrix based on numpy inbuilt function is :\",np.cov(x,y))\n",
    "print(\"Covariance based on numpy inbuilt function\",covariance_m(x,y))\n",
    "## We can see the values match ## our function performs correctly\n",
    "## We will get back to covariance matrix in a while\n",
    "## Note: covariance is negative which indicates the relation between variables x & y are inversely related\n",
    "# i.e. when one increases other decreases which is evident from numbers itself\n",
    "## lets try to see covairance of a vector with itself\n",
    "print(\"Covariance of vector{} with itself is\".format(x),covariance_m(x,x))\n",
    "# we see it to be 1.6666666666666666667 for x . what does that mean ? a vector changes by itself 1.6..?\n",
    "## lets try for other vector\n",
    "print(\"Covariance of vector{} with itself is\".format(y),covariance_m(y,y))\n",
    "## Even this turns out to be strange\n",
    "## Lets try one more thing\n",
    "print(\"Variance of vectors {} & {} are {} {} respectively\".format(x,y,variance_m(x),variance_m(y)))\n",
    "# So , when we take a covariance of a function with itself its the variance itself"
   ]
  },
  {
   "cell_type": "code",
   "execution_count": 53,
   "metadata": {},
   "outputs": [
    {
     "data": {
      "image/png": "[encoded data removed]",
      "text/plain": [
       "<Figure size 432x288 with 1 Axes>"
      ]
     },
     "metadata": {
      "needs_background": "light"
     },
     "output_type": "display_data"
    }
   ],
   "source": [
    "# lets see an example of positive covariance\n",
    "#x=np.random.randint(1,30,size=10)\n",
    "x=np.linspace(1,30,10)\n",
    "y=x**2+4*x+3\n",
    "plt.scatter(x,y,label='Non linear relationship')\n",
    "plt.xlabel('X Values')\n",
    "plt.ylabel('Y Values')\n",
    "_=plt.legend()\n",
    "# the plot is called scatter plot :A plot in which the x-axis is the value of one variable,\n",
    "# and the y-axis the value of another.\n",
    "# here we can visually observe a non linear relationship "
   ]
  },
  {
   "cell_type": "code",
   "execution_count": 54,
   "metadata": {},
   "outputs": [
    {
     "name": "stdout",
     "output_type": "stream",
     "text": [
      "Covariance between two vectors numbers  3331.121399176955\n"
     ]
    }
   ],
   "source": [
    "# covariance of these functions\n",
    "print(\"Covariance between two vectors numbers \",covariance_m(x,y))\n",
    "# we can see from plot the vectors are highly non linearly dependent\n",
    "# covariance values describes the relation highly positive related and nothing more than that"
   ]
  },
  {
   "cell_type": "code",
   "execution_count": 55,
   "metadata": {},
   "outputs": [
    {
     "data": {
      "image/png": "[encoded data removed]",
      "text/plain": [
       "<Figure size 432x288 with 1 Axes>"
      ]
     },
     "metadata": {
      "needs_background": "light"
     },
     "output_type": "display_data"
    }
   ],
   "source": [
    "# covairance for random data sets\n",
    "xr=np.random.random(size=100)\n",
    "yr=np.random.random(size=100)\n",
    "plt.scatter(xr,yr)\n",
    "_=plt.title('Random Noise') "
   ]
  },
  {
   "cell_type": "code",
   "execution_count": 56,
   "metadata": {},
   "outputs": [
    {
     "name": "stdout",
     "output_type": "stream",
     "text": [
      "Covariance between two random noise signals  -0.009192689424000259\n",
      "Covariance between two random noise signals  -3680.7528453697014\n"
     ]
    }
   ],
   "source": [
    "# Lets see what covariance between these two random values will come out to be\n",
    "print(\"Covariance between two random noise signals \",covariance_m(xr,yr))\n",
    "# even though it is close to zero is it not zero\n",
    "# lets see what happens if we increase the scale of random signals\n",
    "print(\"Covariance between two random noise signals \",covariance_m(10010*xr,40*yr))\n",
    "# we see a highly positive/negative value for covairance which suggests a strong relationship either positive or negative\n",
    "## which we can see is not true"
   ]
  },
  {
   "cell_type": "code",
   "execution_count": 57,
   "metadata": {},
   "outputs": [],
   "source": [
    "## We noted two issues with covaraince\n",
    "## 1. Susceptible to scale\n",
    "## 2. Gives no indication about the relationship nature linear , non linear etc"
   ]
  },
  {
   "cell_type": "code",
   "execution_count": 58,
   "metadata": {},
   "outputs": [],
   "source": [
    "##<<19>> Correlation..\n",
    "## It is another way to determine how two variables are related. \n",
    "## In addition to telling you whether variables are positively or inversely related, \n",
    "## correlation also tells you the degree to which the variables tend to move together.\n",
    "## In short it is the scaled version of covariance\n",
    "## i.e. covariance of variable x and y divided by standard deviation of variable x and y"
   ]
  },
  {
   "cell_type": "code",
   "execution_count": 59,
   "metadata": {},
   "outputs": [],
   "source": [
    "def correlation_m(x,y):\n",
    "    # calculate covariance of x and y\n",
    "    x_,y_=removenan_m(x,y)\n",
    "    covxy=covariance_m(x,y)\n",
    "    return covxy/(sd_m(x_)*sd_m(y_))"
   ]
  },
  {
   "cell_type": "code",
   "execution_count": 60,
   "metadata": {},
   "outputs": [
    {
     "name": "stdout",
     "output_type": "stream",
     "text": [
      " Correlation of variable x & y is 0.9739336020154925\n"
     ]
    }
   ],
   "source": [
    "## Example\n",
    "print(\" Correlation of variable x & y is\",correlation_m(x,y))\n",
    "# np.corrcoef(x,y) to check using inbuilt function\n",
    "# this is strong linear correlation between both variables "
   ]
  },
  {
   "cell_type": "code",
   "execution_count": 61,
   "metadata": {},
   "outputs": [
    {
     "name": "stdout",
     "output_type": "stream",
     "text": [
      "Correlation of variable with itself is 1.0\n",
      "Correlation of variable with negation of itself is -1.0\n"
     ]
    }
   ],
   "source": [
    "# correlation of a variable with self \n",
    "print(\"Correlation of variable with itself is\",correlation_m(x,x))\n",
    "# correlation of a function with negative self\n",
    "print(\"Correlation of variable with negation of itself is\",correlation_m(x,-x))\n",
    "# Its clear values of correlation are scaled in between -1 and 1.\n",
    "# where 1 means perfect linear dependence between varaibles\n",
    "# the problem of not having a sense of linear relationship is removed in correlation"
   ]
  },
  {
   "cell_type": "code",
   "execution_count": 62,
   "metadata": {},
   "outputs": [
    {
     "name": "stdout",
     "output_type": "stream",
     "text": [
      "Correlation of random noise is -0.10611548549445832\n",
      "Correlation of random noise is -0.1061154854944583\n"
     ]
    }
   ],
   "source": [
    "# now seeing correlation of radnom noise\n",
    "print(\"Correlation of random noise is\",correlation_m(xr,yr))\n",
    "# lets see if it is susceptible to scaling\n",
    "print(\"Correlation of random noise is\",correlation_m(100*xr,yr))\n",
    "# it is evident the correlation is same for both cases\n",
    "# it eliminates the problem of scaling\n",
    "## also, note correlation captures the linear relationship"
   ]
  },
  {
   "cell_type": "code",
   "execution_count": 63,
   "metadata": {},
   "outputs": [],
   "source": [
    "###<<<KEY POINTS>>>\n",
    "##Correlation coefficient\n",
    "#  A metric that measures the extent to which numeric variables are associated with\n",
    "#  one another (ranges from -1 to +1).\n",
    "#Correlation matrix\n",
    "#  A table where the variables are shown on both rows and columns, and the cell\n",
    "#  values are the correlations between the variables.\n",
    "#Scatterplot\n",
    "#  A plot in which the x-axis is the value of one variable, and the y-axis the value of\n",
    "#another."
   ]
  },
  {
   "cell_type": "code",
   "execution_count": 64,
   "metadata": {},
   "outputs": [],
   "source": [
    "autostocklist=['BAJAJ-AUTO','HEROMOTOCO','TATAMOTORS','MARUTI','EICHERMOT']\n",
    "# taking a list of some auto stocks out of alls tocks to work out\n",
    "stocksremoved=[ name for name in stocks if name not in autostocklist]"
   ]
  },
  {
   "cell_type": "code",
   "execution_count": 65,
   "metadata": {},
   "outputs": [
    {
     "name": "stdout",
     "output_type": "stream",
     "text": [
      "['BAJAJFINSV', 'BAJFINANCE', 'BANDHANBNK', 'BANKBARODA', 'BEL', 'BHARTIARTL', 'BHEL', 'BIOCON', 'BOSCHLTD', 'BPCL', 'BRITANNIA', 'CADILAHC', 'CIPLA', 'COALINDIA', 'COLPAL', 'CONCOR', 'DABUR', 'DLF', 'DRREDDY', 'GAIL', 'GICRE', 'GODREJCP', 'GRASIM', 'HAVELLS', 'HCLTECH', 'HDFC', 'HDFCBANK', 'HDFCLIFE', 'HINDALCO', 'HINDPETRO', 'HINDUNILVR', 'HINDZINC', 'IBULHSGFIN', 'ICICIBANK', 'ICICIGI', 'ICICIPRULI', 'IDEA', 'INDIGO', 'INDUSINDBK', 'INFRATEL', 'INFY', 'IOC', 'ITC', 'JSWSTEEL', 'KOTAKBANK', 'L&TFH', 'LICHSGFIN', 'LT', 'LUPIN', 'M&M', 'MARICO', 'MCDOWELL-N', 'MOTHERSUMI', 'MRF', 'NHPC', 'NIACL', 'NMDC', 'NTPC', 'OFSS', 'OIL', 'ONGC', 'PEL', 'PETRONET', 'PGHH', 'PIDILITIND', 'POWERGRID', 'RELIANCE', 'SAIL', 'SBILIFE', 'SBIN', 'SHREECEM', 'SIEMENS', 'SRTRANSFIN', 'SUNPHARMA', 'SUNTV', 'TATAMTRDVR', 'TATASTEEL', 'TCS', 'TECHM', 'TITAN', 'ULTRACEMCO', 'UPL', 'VEDL', 'WIPRO', 'YESBANK', 'ZEEL']\n"
     ]
    }
   ],
   "source": [
    "print(stocksremoved)\n",
    "# list of stocks to be removed "
   ]
  },
  {
   "cell_type": "code",
   "execution_count": 66,
   "metadata": {},
   "outputs": [],
   "source": [
    "# creating a copy of frame\n",
    "auto_stock=stock_frame.copy()"
   ]
  },
  {
   "cell_type": "code",
   "execution_count": 67,
   "metadata": {},
   "outputs": [
    {
     "data": {
      "text/html": [
       "<div>\n",
       "<style scoped>\n",
       "    .dataframe tbody tr th:only-of-type {\n",
       "        vertical-align: middle;\n",
       "    }\n",
       "\n",
       "    .dataframe tbody tr th {\n",
       "        vertical-align: top;\n",
       "    }\n",
       "\n",
       "    .dataframe thead th {\n",
       "        text-align: right;\n",
       "    }\n",
       "</style>\n",
       "<table border=\"1\" class=\"dataframe\">\n",
       "  <thead>\n",
       "    <tr style=\"text-align: right;\">\n",
       "      <th>Symbol</th>\n",
       "      <th>BAJAJ-AUTO_DR</th>\n",
       "      <th>EICHERMOT_DR</th>\n",
       "      <th>HEROMOTOCO_DR</th>\n",
       "      <th>MARUTI_DR</th>\n",
       "      <th>TATAMOTORS_DR</th>\n",
       "    </tr>\n",
       "    <tr>\n",
       "      <th>Date</th>\n",
       "      <th></th>\n",
       "      <th></th>\n",
       "      <th></th>\n",
       "      <th></th>\n",
       "      <th></th>\n",
       "    </tr>\n",
       "  </thead>\n",
       "  <tbody>\n",
       "    <tr>\n",
       "      <th>2016-11-17</th>\n",
       "      <td>NaN</td>\n",
       "      <td>NaN</td>\n",
       "      <td>NaN</td>\n",
       "      <td>NaN</td>\n",
       "      <td>NaN</td>\n",
       "    </tr>\n",
       "    <tr>\n",
       "      <th>2016-11-18</th>\n",
       "      <td>0.009805</td>\n",
       "      <td>0.035953</td>\n",
       "      <td>0.020849</td>\n",
       "      <td>0.005147</td>\n",
       "      <td>-0.003384</td>\n",
       "    </tr>\n",
       "    <tr>\n",
       "      <th>2016-11-21</th>\n",
       "      <td>-0.019574</td>\n",
       "      <td>-0.065652</td>\n",
       "      <td>-0.003253</td>\n",
       "      <td>-0.033014</td>\n",
       "      <td>-0.030345</td>\n",
       "    </tr>\n",
       "    <tr>\n",
       "      <th>2016-11-22</th>\n",
       "      <td>0.029750</td>\n",
       "      <td>0.014314</td>\n",
       "      <td>0.024557</td>\n",
       "      <td>0.030726</td>\n",
       "      <td>0.017289</td>\n",
       "    </tr>\n",
       "    <tr>\n",
       "      <th>2016-11-23</th>\n",
       "      <td>0.000327</td>\n",
       "      <td>0.014879</td>\n",
       "      <td>0.005271</td>\n",
       "      <td>-0.010882</td>\n",
       "      <td>0.014306</td>\n",
       "    </tr>\n",
       "  </tbody>\n",
       "</table>\n",
       "</div>"
      ],
      "text/plain": [
       "Symbol      BAJAJ-AUTO_DR  EICHERMOT_DR  HEROMOTOCO_DR  MARUTI_DR  \\\n",
       "Date                                                                \n",
       "2016-11-17            NaN           NaN            NaN        NaN   \n",
       "2016-11-18       0.009805      0.035953       0.020849   0.005147   \n",
       "2016-11-21      -0.019574     -0.065652      -0.003253  -0.033014   \n",
       "2016-11-22       0.029750      0.014314       0.024557   0.030726   \n",
       "2016-11-23       0.000327      0.014879       0.005271  -0.010882   \n",
       "\n",
       "Symbol      TATAMOTORS_DR  \n",
       "Date                       \n",
       "2016-11-17            NaN  \n",
       "2016-11-18      -0.003384  \n",
       "2016-11-21      -0.030345  \n",
       "2016-11-22       0.017289  \n",
       "2016-11-23       0.014306  "
      ]
     },
     "execution_count": 67,
     "metadata": {},
     "output_type": "execute_result"
    }
   ],
   "source": [
    "for stock in stocksremoved:\n",
    "    auto_stock.drop(['{}_DR'.format(stock)],inplace=True,axis=1)\n",
    "auto_stock.head()"
   ]
  },
  {
   "cell_type": "code",
   "execution_count": 68,
   "metadata": {},
   "outputs": [],
   "source": [
    "## lets get a visual sense of correlation among stocks"
   ]
  },
  {
   "cell_type": "code",
   "execution_count": 69,
   "metadata": {},
   "outputs": [
    {
     "data": {
      "text/plain": [
       "<matplotlib.axes._subplots.AxesSubplot at 0x1aece490978>"
      ]
     },
     "execution_count": 69,
     "metadata": {},
     "output_type": "execute_result"
    },
    {
     "data": {
      "image/png": "[encoded data removed]",
      "text/plain": [
       "<Figure size 432x288 with 1 Axes>"
      ]
     },
     "metadata": {
      "needs_background": "light"
     },
     "output_type": "display_data"
    }
   ],
   "source": [
    "auto_stock.plot()"
   ]
  },
  {
   "cell_type": "code",
   "execution_count": 88,
   "metadata": {},
   "outputs": [
    {
     "data": {
      "text/html": [
       "<div>\n",
       "<style scoped>\n",
       "    .dataframe tbody tr th:only-of-type {\n",
       "        vertical-align: middle;\n",
       "    }\n",
       "\n",
       "    .dataframe tbody tr th {\n",
       "        vertical-align: top;\n",
       "    }\n",
       "\n",
       "    .dataframe thead th {\n",
       "        text-align: right;\n",
       "    }\n",
       "</style>\n",
       "<table border=\"1\" class=\"dataframe\">\n",
       "  <thead>\n",
       "    <tr style=\"text-align: right;\">\n",
       "      <th>Symbol</th>\n",
       "      <th>BAJAJ-AUTO_DR</th>\n",
       "      <th>EICHERMOT_DR</th>\n",
       "      <th>HEROMOTOCO_DR</th>\n",
       "      <th>MARUTI_DR</th>\n",
       "      <th>TATAMOTORS_DR</th>\n",
       "    </tr>\n",
       "    <tr>\n",
       "      <th>Symbol</th>\n",
       "      <th></th>\n",
       "      <th></th>\n",
       "      <th></th>\n",
       "      <th></th>\n",
       "      <th></th>\n",
       "    </tr>\n",
       "  </thead>\n",
       "  <tbody>\n",
       "    <tr>\n",
       "      <th>BAJAJ-AUTO_DR</th>\n",
       "      <td>1.000000</td>\n",
       "      <td>0.308913</td>\n",
       "      <td>0.521104</td>\n",
       "      <td>0.372392</td>\n",
       "      <td>0.327633</td>\n",
       "    </tr>\n",
       "    <tr>\n",
       "      <th>EICHERMOT_DR</th>\n",
       "      <td>0.308913</td>\n",
       "      <td>1.000000</td>\n",
       "      <td>0.328544</td>\n",
       "      <td>0.417953</td>\n",
       "      <td>0.269829</td>\n",
       "    </tr>\n",
       "    <tr>\n",
       "      <th>HEROMOTOCO_DR</th>\n",
       "      <td>0.521104</td>\n",
       "      <td>0.328544</td>\n",
       "      <td>1.000000</td>\n",
       "      <td>0.373550</td>\n",
       "      <td>0.324527</td>\n",
       "    </tr>\n",
       "    <tr>\n",
       "      <th>MARUTI_DR</th>\n",
       "      <td>0.372392</td>\n",
       "      <td>0.417953</td>\n",
       "      <td>0.373550</td>\n",
       "      <td>1.000000</td>\n",
       "      <td>0.379535</td>\n",
       "    </tr>\n",
       "    <tr>\n",
       "      <th>TATAMOTORS_DR</th>\n",
       "      <td>0.327633</td>\n",
       "      <td>0.269829</td>\n",
       "      <td>0.324527</td>\n",
       "      <td>0.379535</td>\n",
       "      <td>1.000000</td>\n",
       "    </tr>\n",
       "  </tbody>\n",
       "</table>\n",
       "</div>"
      ],
      "text/plain": [
       "Symbol         BAJAJ-AUTO_DR  EICHERMOT_DR  HEROMOTOCO_DR  MARUTI_DR  \\\n",
       "Symbol                                                                 \n",
       "BAJAJ-AUTO_DR       1.000000      0.308913       0.521104   0.372392   \n",
       "EICHERMOT_DR        0.308913      1.000000       0.328544   0.417953   \n",
       "HEROMOTOCO_DR       0.521104      0.328544       1.000000   0.373550   \n",
       "MARUTI_DR           0.372392      0.417953       0.373550   1.000000   \n",
       "TATAMOTORS_DR       0.327633      0.269829       0.324527   0.379535   \n",
       "\n",
       "Symbol         TATAMOTORS_DR  \n",
       "Symbol                        \n",
       "BAJAJ-AUTO_DR       0.327633  \n",
       "EICHERMOT_DR        0.269829  \n",
       "HEROMOTOCO_DR       0.324527  \n",
       "MARUTI_DR           0.379535  \n",
       "TATAMOTORS_DR       1.000000  "
      ]
     },
     "execution_count": 88,
     "metadata": {},
     "output_type": "execute_result"
    }
   ],
   "source": [
    "# we can get the correlation matrix from the dataframe itself\n",
    "# do note this returns a dataframe, \n",
    "auto_stock.corr()"
   ]
  },
  {
   "cell_type": "code",
   "execution_count": 72,
   "metadata": {},
   "outputs": [
    {
     "data": {
      "text/html": [
       "<div>\n",
       "<style scoped>\n",
       "    .dataframe tbody tr th:only-of-type {\n",
       "        vertical-align: middle;\n",
       "    }\n",
       "\n",
       "    .dataframe tbody tr th {\n",
       "        vertical-align: top;\n",
       "    }\n",
       "\n",
       "    .dataframe thead th {\n",
       "        text-align: right;\n",
       "    }\n",
       "</style>\n",
       "<table border=\"1\" class=\"dataframe\">\n",
       "  <thead>\n",
       "    <tr style=\"text-align: right;\">\n",
       "      <th>Symbol</th>\n",
       "      <th>BAJAJ-AUTO_DR</th>\n",
       "      <th>EICHERMOT_DR</th>\n",
       "      <th>HEROMOTOCO_DR</th>\n",
       "      <th>MARUTI_DR</th>\n",
       "      <th>TATAMOTORS_DR</th>\n",
       "    </tr>\n",
       "    <tr>\n",
       "      <th>Symbol</th>\n",
       "      <th></th>\n",
       "      <th></th>\n",
       "      <th></th>\n",
       "      <th></th>\n",
       "      <th></th>\n",
       "    </tr>\n",
       "  </thead>\n",
       "  <tbody>\n",
       "    <tr>\n",
       "      <th>BAJAJ-AUTO_DR</th>\n",
       "      <td>0.000188</td>\n",
       "      <td>0.000077</td>\n",
       "      <td>0.000097</td>\n",
       "      <td>0.000070</td>\n",
       "      <td>0.000090</td>\n",
       "    </tr>\n",
       "    <tr>\n",
       "      <th>EICHERMOT_DR</th>\n",
       "      <td>0.000077</td>\n",
       "      <td>0.000328</td>\n",
       "      <td>0.000081</td>\n",
       "      <td>0.000104</td>\n",
       "      <td>0.000098</td>\n",
       "    </tr>\n",
       "    <tr>\n",
       "      <th>HEROMOTOCO_DR</th>\n",
       "      <td>0.000097</td>\n",
       "      <td>0.000081</td>\n",
       "      <td>0.000186</td>\n",
       "      <td>0.000070</td>\n",
       "      <td>0.000089</td>\n",
       "    </tr>\n",
       "    <tr>\n",
       "      <th>MARUTI_DR</th>\n",
       "      <td>0.000070</td>\n",
       "      <td>0.000104</td>\n",
       "      <td>0.000070</td>\n",
       "      <td>0.000188</td>\n",
       "      <td>0.000104</td>\n",
       "    </tr>\n",
       "    <tr>\n",
       "      <th>TATAMOTORS_DR</th>\n",
       "      <td>0.000090</td>\n",
       "      <td>0.000098</td>\n",
       "      <td>0.000089</td>\n",
       "      <td>0.000104</td>\n",
       "      <td>0.000403</td>\n",
       "    </tr>\n",
       "  </tbody>\n",
       "</table>\n",
       "</div>"
      ],
      "text/plain": [
       "Symbol         BAJAJ-AUTO_DR  EICHERMOT_DR  HEROMOTOCO_DR  MARUTI_DR  \\\n",
       "Symbol                                                                 \n",
       "BAJAJ-AUTO_DR       0.000188      0.000077       0.000097   0.000070   \n",
       "EICHERMOT_DR        0.000077      0.000328       0.000081   0.000104   \n",
       "HEROMOTOCO_DR       0.000097      0.000081       0.000186   0.000070   \n",
       "MARUTI_DR           0.000070      0.000104       0.000070   0.000188   \n",
       "TATAMOTORS_DR       0.000090      0.000098       0.000089   0.000104   \n",
       "\n",
       "Symbol         TATAMOTORS_DR  \n",
       "Symbol                        \n",
       "BAJAJ-AUTO_DR       0.000090  \n",
       "EICHERMOT_DR        0.000098  \n",
       "HEROMOTOCO_DR       0.000089  \n",
       "MARUTI_DR           0.000104  \n",
       "TATAMOTORS_DR       0.000403  "
      ]
     },
     "execution_count": 72,
     "metadata": {},
     "output_type": "execute_result"
    }
   ],
   "source": [
    "# similarly for covariance\n",
    "auto_stock.cov()"
   ]
  },
  {
   "cell_type": "code",
   "execution_count": 90,
   "metadata": {},
   "outputs": [
    {
     "data": {
      "image/png": "[encoded data removed]",
      "text/plain": [
       "<Figure size 432x288 with 2 Axes>"
      ]
     },
     "metadata": {
      "needs_background": "light"
     },
     "output_type": "display_data"
    }
   ],
   "source": [
    "_=auto_stock[['HEROMOTOCO_DR','BAJAJ-AUTO_DR']].plot(subplots=True,title='Correlation for daily returns is {}'.format(auto_stock.corr().loc['HEROMOTOCO_DR']['BAJAJ-AUTO_DR']))"
   ]
  },
  {
   "cell_type": "code",
   "execution_count": 101,
   "metadata": {},
   "outputs": [
    {
     "data": {
      "image/png": "[encoded data removed]",
      "text/plain": [
       "<Figure size 432x288 with 1 Axes>"
      ]
     },
     "metadata": {},
     "output_type": "display_data"
    }
   ],
   "source": [
    "# Scatter plot \n",
    "fig1=auto_stock.plot.scatter('HEROMOTOCO_DR','BAJAJ-AUTO_DR',title='Scatter Plot')\n",
    "# we can add the straight line to the sactter plot\n",
    "# to make the visualization much more convenient\n",
    "## do note it is advisable to have have both axis have same limits\n",
    "# for visualization purposes\n",
    "xmin,xmax=fig1.get_xlim()\n",
    "ymin,ymax=fig1.get_ylim()\n",
    "minxy,maxxy=min(xmin,ymin),max(xmax,ymax)\n",
    "_=plt.plot(np.linspace(minxy,maxxy,100),np.linspace(minxy,maxxy,100),color='red')"
   ]
  },
  {
   "cell_type": "code",
   "execution_count": 102,
   "metadata": {},
   "outputs": [],
   "source": [
    "## We see scatter plots are very useful for visualization\n",
    "## but even they have some limitations\n",
    "## Too heavy or dense when the data points are large\n",
    "## Are scalar representation , not a vector representation\n",
    "## As an example , if both variables i.e. x & y are temp it is convenient to compare them by this format\n",
    "# But lets say if x and y are vectors representing speed and direction \n",
    "# we will not be able to represent it this way\n",
    "# we will be needing a slight modification"
   ]
  },
  {
   "cell_type": "code",
   "execution_count": 103,
   "metadata": {},
   "outputs": [],
   "source": [
    "##<<20>> Hexagonal Plotting\n",
    "## A plot of two numeric variables with the records binned into hexagons.\n",
    "##It is a hexagon binning plot of the relationship between one variable\n",
    "#versus the 2nd variable. Rather than plotting points , which would appear as a monolithic dark cloud ( as in scatter plot), \n",
    "#the records are grouped into hexagonal bins and the hexagons are plotted with a color indicating the\n",
    "#number of records in that bin. "
   ]
  },
  {
   "cell_type": "code",
   "execution_count": 119,
   "metadata": {},
   "outputs": [
    {
     "data": {
      "image/png": "[encoded data removed]",
      "text/plain": [
       "<Figure size 432x288 with 2 Axes>"
      ]
     },
     "metadata": {},
     "output_type": "display_data"
    }
   ],
   "source": [
    "_=auto_stock.plot(x='HEROMOTOCO_DR',y='BAJAJ-AUTO_DR',kind='hexbin',gridsize=25,title='Hexagonal Binning')\n"
   ]
  },
  {
   "cell_type": "code",
   "execution_count": 121,
   "metadata": {},
   "outputs": [],
   "source": [
    "# The shade of color signifies the density of points in that region\n",
    "# The usage will be more evident when data points are too large\n",
    "# In those cases we can notice the color density scattered"
   ]
  },
  {
   "cell_type": "code",
   "execution_count": 123,
   "metadata": {},
   "outputs": [
    {
     "data": {
      "image/png": "[encoded data removed]",
      "text/plain": [
       "<Figure size 432x288 with 2 Axes>"
      ]
     },
     "metadata": {},
     "output_type": "display_data"
    }
   ],
   "source": [
    "_=auto_stock.plot(x='EICHERMOT_DR',y='TATAMOTORS_DR',kind='hexbin',gridsize=25,title='Hexagonal Binning')\n",
    "# now for this least correlated stocks we can observe color density more\n",
    "# diversified in comparision to the earlier one with concentrated color scheme"
   ]
  },
  {
   "cell_type": "code",
   "execution_count": 160,
   "metadata": {},
   "outputs": [],
   "source": [
    "## This is all for this tutorials\n",
    "## In future we will come back to further statistics and plotting functions"
   ]
  },
  {
   "cell_type": "code",
   "execution_count": null,
   "metadata": {
    "scrolled": true
   },
   "outputs": [],
   "source": []
  },
  {
   "cell_type": "code",
   "execution_count": null,
   "metadata": {},
   "outputs": [],
   "source": []
  },
  {
   "cell_type": "code",
   "execution_count": null,
   "metadata": {},
   "outputs": [],
   "source": []
  },
  {
   "cell_type": "code",
   "execution_count": null,
   "metadata": {},
   "outputs": [],
   "source": []
  }
 ],
 "metadata": {
  "kernelspec": {
   "display_name": "Python 3",
   "language": "python",
   "name": "python3"
  },
  "language_info": {
   "codemirror_mode": {
    "name": "ipython",
    "version": 3
   },
   "file_extension": ".py",
   "mimetype": "text/x-python",
   "name": "python",
   "nbconvert_exporter": "python",
   "pygments_lexer": "ipython3",
   "version": "3.6.7"
  }
 },
 "nbformat": 4,
 "nbformat_minor": 2
}
